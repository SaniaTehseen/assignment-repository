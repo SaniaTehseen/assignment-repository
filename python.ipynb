{
  "cells": [
    {
      "cell_type": "markdown",
      "metadata": {
        "id": "K5zZ7QzXdr2l"
      },
      "source": [
        "# **IF/ELSE/ELIF**"
      ]
    },
    {
      "cell_type": "code",
      "execution_count": null,
      "metadata": {
        "colab": {
          "base_uri": "https://localhost:8080/"
        },
        "id": "_Ym9b7HLgwIt",
        "outputId": "3c24ed4e-94b1-4335-dc36-c6e8042e46a1"
      },
      "outputs": [
        {
          "name": "stdout",
          "output_type": "stream",
          "text": [
            "It's red\n",
            "sky\n"
          ]
        }
      ],
      "source": [
        "a = \"red\"\n",
        "\n",
        "\n",
        "if a is \"yellow\":\n",
        "    print(\"It's Yellow\")\n",
        "\n",
        "elif a is \"blue\":\n",
        "    print(\"It's blue\")\n",
        "\n",
        "elif a is \"red\":\n",
        "    print(\"It's red\")\n",
        "\n",
        "else:\n",
        "    print(\"None\")\n",
        "print(\"sky\")"
      ]
    },
    {
      "cell_type": "code",
      "execution_count": null,
      "metadata": {
        "colab": {
          "base_uri": "https://localhost:8080/"
        },
        "id": "Z_EVenBfWVUx",
        "outputId": "d97b00ca-bc3e-45b4-cff7-eabf7e98bc5e"
      },
      "outputs": [
        {
          "name": "stdout",
          "output_type": "stream",
          "text": [
            "hi im asma\n"
          ]
        }
      ],
      "source": [
        "print (\"hi im asma\")"
      ]
    },
    {
      "cell_type": "code",
      "execution_count": null,
      "metadata": {
        "colab": {
          "base_uri": "https://localhost:8080/"
        },
        "id": "I1W49Fego8R3",
        "outputId": "5b5b1c2c-5953-4ed4-df98-e3520c641aa7"
      },
      "outputs": [
        {
          "name": "stdout",
          "output_type": "stream",
          "text": [
            "65\n",
            "weird\n"
          ]
        }
      ],
      "source": [
        "n=int(input())\n",
        "if n%2 != 0:\n",
        "  print(\"weird\")\n",
        "elif n%2 ==0 and n>=2 and n<=5:\n",
        "  print('not weird')\n",
        "elif n%2==0 and n>20:\n",
        "  print('too weird')\n",
        "else:\n",
        "  print('invalid ')"
      ]
    },
    {
      "cell_type": "code",
      "execution_count": null,
      "metadata": {
        "colab": {
          "base_uri": "https://localhost:8080/"
        },
        "id": "SpwtCu_tmVxx",
        "outputId": "10e6f408-806b-41fe-dabc-376406f382c3"
      },
      "outputs": [
        {
          "name": "stdout",
          "output_type": "stream",
          "text": [
            "What is your name?\n",
            "misbah\n",
            "What is your age?\n",
            "18\n",
            "You may proceed\n"
          ]
        }
      ],
      "source": [
        "print(\"What is your name?\")\n",
        "name = input()\n",
        "print(\"What is your age?\")\n",
        "age = int(input())\n",
        "\n",
        "if name == \"misbah\" and age == 18:\n",
        "  print(\"You may proceed\")\n",
        "else:\n",
        "  print(\"You may leave\")"
      ]
    },
    {
      "cell_type": "code",
      "execution_count": null,
      "metadata": {
        "colab": {
          "base_uri": "https://localhost:8080/"
        },
        "id": "qgqxrWJ_n7w5",
        "outputId": "dca1b8d6-efc4-44d9-f492-242e6ec8c757"
      },
      "outputs": [
        {
          "name": "stdout",
          "output_type": "stream",
          "text": [
            "['bike', 'boat', 'harley', 'car', 'plane']\n"
          ]
        }
      ],
      "source": [
        "a = [\"bike\",\"boat\",\"car\",\"plane\"]\n",
        "a.insert(2,\"harley\")\n",
        "print(a)\n"
      ]
    },
    {
      "cell_type": "code",
      "execution_count": null,
      "metadata": {
        "colab": {
          "base_uri": "https://localhost:8080/"
        },
        "id": "U8TRootcgtrZ",
        "outputId": "fd300b33-4385-4c16-c8e8-708edc76642a"
      },
      "outputs": [
        {
          "name": "stdout",
          "output_type": "stream",
          "text": [
            "High\n",
            "0\n",
            "10\n"
          ]
        }
      ],
      "source": [
        "x = 18\n",
        "result = 'High' if x > 10 else 'Low'\n",
        "print(result)\n",
        "\n",
        "y = 20\n",
        "result = 10 + 10 if y > 100 else 0\n",
        "print(result)\n",
        "\n",
        "z = 20\n",
        "result = 10 + (10 if z > 100 else 0)\n",
        "print(result)"
      ]
    },
    {
      "cell_type": "code",
      "execution_count": null,
      "metadata": {
        "colab": {
          "base_uri": "https://localhost:8080/"
        },
        "id": "uTdKFunzk4a7",
        "outputId": "f9697c5e-7dbe-47df-92eb-bf702689f1d3"
      },
      "outputs": [
        {
          "name": "stdout",
          "output_type": "stream",
          "text": [
            "Hello\n",
            "Hi\n",
            "Hello\n",
            "Hello\n"
          ]
        }
      ],
      "source": [
        "a = 25\n",
        "if a < 15:\n",
        "    print(\"Hi\")\n",
        "if a <= 30:\n",
        "    print(\"Hello\")\n",
        "else:\n",
        "    print(\"Know Program\")\n",
        "\n",
        "b = 25\n",
        "if b > 15:\n",
        "    print(\"Hi\")\n",
        "if b <= 30:\n",
        "    print(\"Hello\")\n",
        "else:\n",
        "    print(\"Know Program\")\n",
        "\n",
        "a, b, c = 1, 3, 5\n",
        "if a > 0:\n",
        "  if b < 2:\n",
        "    print(\"Hi\")\n",
        "  elif c > 3:\n",
        "    print(\"Hello\")\n",
        "else:\n",
        "  print(\"Know Program\")"
      ]
    },
    {
      "cell_type": "code",
      "execution_count": null,
      "metadata": {
        "colab": {
          "base_uri": "https://localhost:8080/"
        },
        "id": "Y_3HYy0mn9Jp",
        "outputId": "5d2ae26f-0778-4582-8b13-a53b9e3767ea"
      },
      "outputs": [
        {
          "name": "stdout",
          "output_type": "stream",
          "text": [
            "Hello\n",
            "y-z\n",
            "ruff\n"
          ]
        }
      ],
      "source": [
        "a, b, c = 1, 3, 5\n",
        "if a + b + c:\n",
        "    print(\"Hello\")\n",
        "else:\n",
        "    print(\"Know Program\")\n",
        "\n",
        "a = 1\n",
        "if a > 3:\n",
        "     if a > 4:\n",
        "          print('w' ,end=\"-\")\n",
        "     else:\n",
        "          print('x' ,end=\"-\")\n",
        "elif a < 2:\n",
        "     if (a !=0):\n",
        "          print('y' ,end=\"-\")\n",
        "print('z')\n",
        "\n",
        "# if  2:\n",
        "#     print(\"1 is truthy!\")\n",
        "# else:\n",
        "#     print(\"0 is false\")\n",
        "\n",
        "if \"cat\" == \"dog\":\n",
        "    print(\"prrrr\")\n",
        "else:\n",
        "    print(\"ruff\")"
      ]
    },
    {
      "cell_type": "code",
      "execution_count": null,
      "metadata": {
        "id": "OxgemBTKdKri",
        "colab": {
          "base_uri": "https://localhost:8080/"
        },
        "outputId": "e884204d-b2c7-410c-f494-e7990e2d826f"
      },
      "outputs": [
        {
          "output_type": "stream",
          "name": "stdout",
          "text": [
            "Please enter an initial investment: 3000\n",
            "Enter the annual interest rate: 50\n",
            "Amount of time to double your investment  1\n"
          ]
        }
      ],
      "source": [
        "def main():\n",
        "  a = float(input(\"Please enter an initial investment: \"))\n",
        "  x = float(input(\"Enter the annual interest rate: \"))*100\n",
        "\n",
        "  year =0\n",
        "  b = a\n",
        "\n",
        "  while  b < a * 2 :\n",
        "    b = b + b * (x)/100\n",
        "    year = year + 1\n",
        "  print(\"Amount of time to double your investment \",year)\n",
        "main()"
      ]
    },
    {
      "cell_type": "code",
      "execution_count": null,
      "metadata": {
        "colab": {
          "base_uri": "https://localhost:8080/"
        },
        "id": "klAXw3D_e82t",
        "outputId": "6458aa7f-8e84-4150-a4ff-81900df4147a"
      },
      "outputs": [
        {
          "name": "stdout",
          "output_type": "stream",
          "text": [
            "85\n",
            "Goodbye.\n"
          ]
        }
      ],
      "source": [
        "temp=eval(input())\n",
        "if temp > 86:\n",
        "  print('Itis hot!')\n",
        "  print('Drinkliquids.')\n",
        "print('Goodbye.')"
      ]
    },
    {
      "cell_type": "code",
      "execution_count": null,
      "metadata": {
        "colab": {
          "base_uri": "https://localhost:8080/"
        },
        "id": "B2DNguuYvSXO",
        "outputId": "b06b8551-0919-4629-9022-dc74403a4401"
      },
      "outputs": [
        {
          "name": "stdout",
          "output_type": "stream",
          "text": [
            "prrrr\n"
          ]
        }
      ],
      "source": [
        "if \"cat\" == \"cat\":\n",
        "    print(\"prrrr\")\n",
        "else:\n",
        "    print(\"ruff\")"
      ]
    },
    {
      "cell_type": "code",
      "execution_count": null,
      "metadata": {
        "colab": {
          "base_uri": "https://localhost:8080/"
        },
        "id": "rq9Rahzrvxm1",
        "outputId": "98cfb9a7-3836-4e1a-d533-63dc0d6c9fa1"
      },
      "outputs": [
        {
          "name": "stdout",
          "output_type": "stream",
          "text": [
            "Easy to learn with Learnpython4cbse\n",
            "4\n",
            "Second\n"
          ]
        }
      ],
      "source": [
        "a=11\n",
        "b=5\n",
        "if (a%b==0):\n",
        "    print ( \"Greater\")\n",
        "if (a//b==0):\n",
        "    print ( \"Example\")\n",
        "else:\n",
        "    print (\"Easy to learn with Learnpython4cbse\")\n",
        "\n",
        "int1 = 10\n",
        "int2 = 6\n",
        "if int != int2:\n",
        "    int2 = ++int2\n",
        "print(int1 - int2)\n",
        "\n",
        "# if True:\n",
        "#     print(‘1001’)\n",
        "# else:\n",
        "#     print(‘2002’)\n",
        "\n",
        "if False:\n",
        "    print(\"First\")\n",
        "elif True:\n",
        "    print(\"Second\")\n",
        "elif True:\n",
        "    print(\"Third\")\n",
        "else:\n",
        "    print(\"Fourth\")"
      ]
    },
    {
      "cell_type": "code",
      "execution_count": null,
      "metadata": {
        "colab": {
          "base_uri": "https://localhost:8080/"
        },
        "id": "zENOdJuc7WhV",
        "outputId": "ae306dec-172b-4258-a68f-66cd5a32cd64"
      },
      "outputs": [
        {
          "name": "stdout",
          "output_type": "stream",
          "text": [
            "10,9,8,7,6,5,4,3,2,1,"
          ]
        }
      ],
      "source": [
        "x = 12345678\n",
        "for i in range(10, 0, -1):\n",
        "    print(i, end = ',', sep = ':')"
      ]
    },
    {
      "cell_type": "code",
      "execution_count": null,
      "metadata": {
        "colab": {
          "base_uri": "https://localhost:8080/"
        },
        "id": "WdKWIa097pW9",
        "outputId": "714316eb-331c-48db-c692-a9aff08aeafb"
      },
      "outputs": [
        {
          "data": {
            "text/plain": [
              "False"
            ]
          },
          "execution_count": 12,
          "metadata": {},
          "output_type": "execute_result"
        }
      ],
      "source": [
        "x = eval ('True and False')\n",
        "x"
      ]
    },
    {
      "cell_type": "code",
      "execution_count": null,
      "metadata": {
        "colab": {
          "base_uri": "https://localhost:8080/"
        },
        "id": "v9rVfegOyuvs",
        "outputId": "f8a58466-316b-4302-fd98-d70b2907c037"
      },
      "outputs": [
        {
          "name": "stdout",
          "output_type": "stream",
          "text": [
            "ok\n"
          ]
        }
      ],
      "source": [
        "x=3\n",
        "if x>2 or x<5 and x==6:\n",
        "    print(\"ok\")\n",
        "else:\n",
        "    print(\"no output\")\n"
      ]
    },
    {
      "cell_type": "code",
      "execution_count": null,
      "metadata": {
        "colab": {
          "base_uri": "https://localhost:8080/"
        },
        "id": "chRH4U1uOMpe",
        "outputId": "9d20b9bd-2d1a-4465-cac6-71662aa40368"
      },
      "outputs": [
        {
          "name": "stdout",
          "output_type": "stream",
          "text": [
            "-2\n"
          ]
        }
      ],
      "source": [
        "int1 = 10\n",
        "int2 = 6\n",
        "if int != int2:\n",
        "    int2 += int2\n",
        "print(int1 - int2)"
      ]
    },
    {
      "cell_type": "code",
      "execution_count": null,
      "metadata": {
        "colab": {
          "base_uri": "https://localhost:8080/"
        },
        "id": "jvzqmrGouVkJ",
        "outputId": "dd2aa392-f93d-4a90-edd2-0053b5f02b8e"
      },
      "outputs": [
        {
          "name": "stdout",
          "output_type": "stream",
          "text": [
            "YES\n"
          ]
        }
      ],
      "source": [
        "x=True\n",
        "y=False\n",
        "z=False\n",
        "if x or y and z:\n",
        "     print(\"YES\")\n",
        "elif x and y or z:\n",
        "     print(\"yes\")\n",
        "else:\n",
        "     print(\"no\")"
      ]
    },
    {
      "cell_type": "markdown",
      "metadata": {
        "id": "mq2zHbUgNTq_"
      },
      "source": [
        "# **LOOPS**"
      ]
    },
    {
      "cell_type": "code",
      "execution_count": null,
      "metadata": {
        "colab": {
          "base_uri": "https://localhost:8080/"
        },
        "id": "SuP6c-TYPlY5",
        "outputId": "482ea815-b852-4d1e-cd80-b29af5367273"
      },
      "outputs": [
        {
          "name": "stdout",
          "output_type": "stream",
          "text": [
            "apple\n",
            "banana\n"
          ]
        }
      ],
      "source": [
        "fruits = [\"apple\", \"banana\", \"cherry\"]\n",
        "for x in fruits:\n",
        "  print(x)\n",
        "  if x == \"banana\":\n",
        "    break\n"
      ]
    },
    {
      "cell_type": "code",
      "execution_count": null,
      "metadata": {
        "colab": {
          "base_uri": "https://localhost:8080/"
        },
        "id": "4EGBd2mGuEtV",
        "outputId": "19f61071-b757-4d9c-d5d5-b4d8020f1616"
      },
      "outputs": [
        {
          "output_type": "stream",
          "name": "stdout",
          "text": [
            "Please enter an inititial principal: 3000\n",
            "Enter the annual interest rate: 50\n",
            "4500.0\n",
            "6750.0\n",
            "Amount of time is  2\n"
          ]
        }
      ],
      "source": [
        "def main():\n",
        "  invested = float(input(\"Please enter an inititial principal: \"))\n",
        "  rate = float(input(\"Enter the annual interest rate: \"))/100\n",
        "\n",
        "  year = 0\n",
        "  total = invested\n",
        "\n",
        "  while total < invested * 2 :\n",
        "    total = total + total * (rate)\n",
        "    print(total)\n",
        "    year = year + 1\n",
        "  print(\"Amount of time is \",year)\n",
        "main()\n"
      ]
    },
    {
      "cell_type": "code",
      "execution_count": null,
      "metadata": {
        "colab": {
          "base_uri": "https://localhost:8080/"
        },
        "id": "0Ux-bItXQyxw",
        "outputId": "c74cdcc7-c74a-4573-d70e-7dfc442d2a51"
      },
      "outputs": [
        {
          "name": "stdout",
          "output_type": "stream",
          "text": [
            "apple\n"
          ]
        }
      ],
      "source": [
        "fruits =[\"apple\", \"banana\", \"cherry\"]\n",
        "for x in fruits:\n",
        "  if x == \"banana\":\n",
        "    break\n",
        "  print(x)"
      ]
    },
    {
      "cell_type": "code",
      "execution_count": null,
      "metadata": {
        "colab": {
          "base_uri": "https://localhost:8080/"
        },
        "id": "_Ae7XLEONWxv",
        "outputId": "dad14619-2904-4523-e3e9-b516897df273"
      },
      "outputs": [
        {
          "name": "stdout",
          "output_type": "stream",
          "text": [
            "apple\n",
            "apple\n",
            "cherry\n"
          ]
        }
      ],
      "source": [
        "\n",
        "fruits = [\"apple\", \"banana\", \"cherry\"]\n",
        "for x in fruits:\n",
        "  if x == \"banana\":\n",
        "    continue\n",
        "  print(x)"
      ]
    },
    {
      "cell_type": "markdown",
      "metadata": {
        "id": "S_kk1AH7QJWD"
      },
      "source": [
        "The range() function defaults to increment the sequence by 1, however it is possible to specify the increment value by adding a third parameter: range(2, 30, 3):\n",
        "\n"
      ]
    },
    {
      "cell_type": "code",
      "execution_count": null,
      "metadata": {
        "colab": {
          "base_uri": "https://localhost:8080/"
        },
        "id": "m_1TGlzWQbCN",
        "outputId": "8931e26e-e43e-48b2-d39f-4fe83f438472"
      },
      "outputs": [
        {
          "name": "stdout",
          "output_type": "stream",
          "text": [
            "2\n",
            "5\n",
            "8\n",
            "11\n",
            "14\n",
            "17\n",
            "20\n",
            "23\n",
            "26\n",
            "29\n"
          ]
        }
      ],
      "source": [
        "#Increment the sequence with 3 (default is 1):\n",
        "\n",
        "for x in range(2, 30, )3:\n",
        "  print(x)"
      ]
    },
    {
      "cell_type": "markdown",
      "metadata": {
        "id": "5g_7U2C8Q6a1"
      },
      "source": [
        "**The else keyword in a for loop specifies a block of code to be executed when the loop is finished:**"
      ]
    },
    {
      "cell_type": "code",
      "execution_count": null,
      "metadata": {
        "colab": {
          "base_uri": "https://localhost:8080/"
        },
        "id": "trqZ3g-JQ5oY",
        "outputId": "56e119dd-e9c4-48ca-f36a-85b4dfe2b6db"
      },
      "outputs": [
        {
          "name": "stdout",
          "output_type": "stream",
          "text": [
            "0\n",
            "1\n",
            "2\n",
            "3\n",
            "4\n",
            "5\n",
            "finally finished!\n"
          ]
        }
      ],
      "source": [
        "for x in range(6):\n",
        "  print(x)\n",
        "else:\n",
        "  print('finally finished!')"
      ]
    },
    {
      "cell_type": "markdown",
      "metadata": {
        "id": "5gM6CtDVRuac"
      },
      "source": [
        "The else block will not be executed if the loop is stopped by a **break** statement."
      ]
    },
    {
      "cell_type": "code",
      "execution_count": null,
      "metadata": {
        "colab": {
          "base_uri": "https://localhost:8080/"
        },
        "id": "cmDs7g3uR-Ni",
        "outputId": "38e2f0bb-c88e-403d-c447-36afb65c389a"
      },
      "outputs": [
        {
          "name": "stdout",
          "output_type": "stream",
          "text": [
            "0\n",
            "1\n",
            "2\n"
          ]
        }
      ],
      "source": [
        "for x in range(6):\n",
        "  if x == 3 :break\n",
        "  print(x)\n",
        "else:\n",
        "  print('finally finished!')"
      ]
    },
    {
      "cell_type": "code",
      "execution_count": null,
      "metadata": {
        "colab": {
          "base_uri": "https://localhost:8080/"
        },
        "id": "5fM2wH-4rh58",
        "outputId": "24b3112f-59b7-458b-ac41-e693e3532f89"
      },
      "outputs": [
        {
          "name": "stdout",
          "output_type": "stream",
          "text": [
            "[4, 9]\n"
          ]
        }
      ],
      "source": [
        "a=[4,9,8,7]\n",
        "print(a[0:2])"
      ]
    },
    {
      "cell_type": "code",
      "execution_count": null,
      "metadata": {
        "colab": {
          "base_uri": "https://localhost:8080/"
        },
        "id": "w-AYSDG9qD5W",
        "outputId": "df018739-00d0-467a-c97c-357fbf7ba701"
      },
      "outputs": [
        {
          "name": "stdout",
          "output_type": "stream",
          "text": [
            "f\n",
            "a\n",
            "h\n",
            "a\n",
            "d\n"
          ]
        }
      ],
      "source": [
        "a = \"fahad\"\n",
        "for i in a:\n",
        "  print(i)"
      ]
    },
    {
      "cell_type": "code",
      "execution_count": null,
      "metadata": {
        "id": "6Y0xrSa7qD4H"
      },
      "outputs": [],
      "source": []
    },
    {
      "cell_type": "code",
      "execution_count": null,
      "metadata": {
        "colab": {
          "base_uri": "https://localhost:8080/"
        },
        "id": "WEQDknBsVNuP",
        "outputId": "d70d5903-26c2-4591-d988-4e3c8dd19457"
      },
      "outputs": [
        {
          "name": "stdout",
          "output_type": "stream",
          "text": [
            "1\n",
            "2\n",
            "3\n",
            "4\n",
            "5\n"
          ]
        }
      ],
      "source": [
        "i=1\n",
        "while i<6:\n",
        "  print (i)\n",
        "  i += 1"
      ]
    },
    {
      "cell_type": "code",
      "execution_count": null,
      "metadata": {
        "colab": {
          "base_uri": "https://localhost:8080/"
        },
        "id": "RHOg5HZ0Vsbz",
        "outputId": "f1cf8ab7-592b-433e-d971-c66b96c22e18"
      },
      "outputs": [
        {
          "name": "stdout",
          "output_type": "stream",
          "text": [
            "2\n",
            "4\n",
            "5\n",
            "6\n"
          ]
        }
      ],
      "source": [
        "i=1\n",
        "while i<6:\n",
        "  i +=1\n",
        "  if i==3:\n",
        "    continue\n",
        "  print (i)"
      ]
    },
    {
      "cell_type": "code",
      "execution_count": null,
      "metadata": {
        "colab": {
          "base_uri": "https://localhost:8080/"
        },
        "id": "D-fU0N2UF1pO",
        "outputId": "f8e781a0-01d0-490b-ba22-864dbe45f303"
      },
      "outputs": [
        {
          "name": "stdout",
          "output_type": "stream",
          "text": [
            "16\n"
          ]
        }
      ],
      "source": [
        "sum = 0\n",
        "values = [1,3,5,7]\n",
        "for number in values:\n",
        "    sum = sum + number\n",
        "print(sum)"
      ]
    },
    {
      "cell_type": "code",
      "execution_count": null,
      "metadata": {
        "id": "Fljj7rshsXAv",
        "colab": {
          "base_uri": "https://localhost:8080/"
        },
        "outputId": "a6c4e8cb-084a-45b8-8940-fce66feeaf36"
      },
      "outputs": [
        {
          "output_type": "stream",
          "name": "stdout",
          "text": [
            "*\n",
            "**\n",
            "***\n",
            "****\n",
            "*****\n"
          ]
        }
      ],
      "source": [
        "n=5\n",
        "for i in range(1,n+1):\n",
        "  print(\"*\" * i)"
      ]
    },
    {
      "cell_type": "markdown",
      "metadata": {
        "id": "M9kaq12FmsqU"
      },
      "source": [
        "# **RECURSION**\n",
        "\n"
      ]
    },
    {
      "cell_type": "code",
      "execution_count": null,
      "metadata": {
        "colab": {
          "base_uri": "https://localhost:8080/"
        },
        "id": "_gZTg_WunHXc",
        "outputId": "48912224-52c1-448d-fd16-e4e8c2dab4b3"
      },
      "outputs": [
        {
          "name": "stdout",
          "output_type": "stream",
          "text": [
            "\n",
            "\n",
            "Recursion Example Results\n",
            "1\n",
            "3\n",
            "6\n",
            "10\n",
            "15\n",
            "21\n"
          ]
        },
        {
          "data": {
            "text/plain": [
              "21"
            ]
          },
          "execution_count": 1,
          "metadata": {},
          "output_type": "execute_result"
        }
      ],
      "source": [
        "def tri_recursion(k):\n",
        "  if(k > 0):\n",
        "    result = k + tri_recursion(k - 1)\n",
        "    print(result)\n",
        "  else:\n",
        "    result = 0\n",
        "  return result\n",
        "\n",
        "print(\"\\n\\nRecursion Example Results\")\n",
        "tri_recursion(6)\n"
      ]
    },
    {
      "cell_type": "code",
      "execution_count": null,
      "metadata": {
        "colab": {
          "base_uri": "https://localhost:8080/"
        },
        "id": "uasIlxfm9dJJ",
        "outputId": "ea2d2a81-c911-4cfc-8478-dcfa158ffd55"
      },
      "outputs": [
        {
          "name": "stdout",
          "output_type": "stream",
          "text": [
            "emil\n",
            "23\n"
          ]
        }
      ],
      "source": [
        "def display_person(*args):\n",
        "    for i in args:\n",
        "        print(i)\n",
        "display_person('emil', '23')\n",
        "\n"
      ]
    },
    {
      "cell_type": "code",
      "execution_count": null,
      "metadata": {
        "colab": {
          "base_uri": "https://localhost:8080/"
        },
        "id": "Nb2gvY1koASP",
        "outputId": "055e1266-f05d-40c8-ae44-c2bcf1df126d"
      },
      "outputs": [
        {
          "name": "stdout",
          "output_type": "stream",
          "text": [
            "saniatehseen2\n"
          ]
        }
      ],
      "source": [
        "email= \"saniatehseen2@icloud.com\"\n",
        "print(email.split('@')[0])"
      ]
    },
    {
      "cell_type": "code",
      "execution_count": null,
      "metadata": {
        "id": "ma-7f6UieAi0"
      },
      "outputs": [],
      "source": [
        "#PYTHON PROGRAM TO PRINT PRIME NUMBERS BETWEEN AN INTERVAL:\n",
        "a = 2\n",
        "b = 501\n",
        "print('print prime numbers between',a,'and',b,'are:')\n",
        "for num in range(a,b):\n",
        "  if num>1:\n",
        "    for i in range(2,num):\n",
        "      if(num%i)==0:\n",
        "        break\n",
        "    else:\n",
        "     print(num)"
      ]
    },
    {
      "cell_type": "code",
      "execution_count": null,
      "metadata": {
        "colab": {
          "background_save": true,
          "base_uri": "https://localhost:8080/",
          "height": 130
        },
        "id": "iDnqXsavdMZ3",
        "outputId": "cab476d8-b0c8-4277-a2df-2ba60c056735"
      },
      "outputs": [
        {
          "ename": "SyntaxError",
          "evalue": "ignored",
          "output_type": "error",
          "traceback": [
            "\u001b[0;36m  File \u001b[0;32m\"<ipython-input-37-ab39c75b18bc>\"\u001b[0;36m, line \u001b[0;32m11\u001b[0m\n\u001b[0;31m    return [my_list[i] for i in range(l) if i != position :break]\u001b[0m\n\u001b[0m                                                          ^\u001b[0m\n\u001b[0;31mSyntaxError\u001b[0m\u001b[0;31m:\u001b[0m invalid syntax\n"
          ]
        }
      ],
      "source": [
        "def remove(my_list,position):\n",
        "  l=len(my_list)\n",
        "\n",
        "  if position <= l :\n",
        "    position = l-1\n",
        "  elif position <= 0:\n",
        "    position = 0\n",
        "  else:\n",
        "    print(\"index out of range\")\n",
        "\n",
        "  return [my_list[i] for i in range(l) if i != position ,break]\n",
        "position = int(input('enter the position from which you want to delete the element:'))\n",
        "remove([1,2,3,4],position)"
      ]
    },
    {
      "cell_type": "code",
      "execution_count": null,
      "metadata": {
        "id": "Wr-t3XbHeoCk"
      },
      "outputs": [],
      "source": [
        "0def remove(my_list,position):\n",
        "  l=len(my_list)\n",
        "\n",
        "  if position >= 1:\n",
        "    position = l-1\n",
        "  elif position <= 0:\n",
        "    position = 0\n",
        "\n",
        "  return [my_list[i] for i in range(l) if i != position]\n",
        "#b = int(input('enter the position from which you want to delete the element:'))\n",
        "remove([1,2,3,4],2)"
      ]
    },
    {
      "cell_type": "code",
      "execution_count": null,
      "metadata": {
        "colab": {
          "base_uri": "https://localhost:8080/"
        },
        "id": "-embDRyJ9B3N",
        "outputId": "055ac58b-a5a1-438a-d14a-8c921b71c7e1"
      },
      "outputs": [
        {
          "name": "stdout",
          "output_type": "stream",
          "text": [
            "0\n",
            "1\n",
            "2\n",
            "3\n",
            "4\n",
            "5\n",
            "6\n",
            "7\n",
            "8\n",
            "9\n",
            "10\n"
          ]
        }
      ],
      "source": [
        "for i in range(0,11):\n",
        "  print(i)"
      ]
    },
    {
      "cell_type": "code",
      "execution_count": null,
      "metadata": {
        "colab": {
          "base_uri": "https://localhost:8080/"
        },
        "id": "lt4q8XEo9aP_",
        "outputId": "bfe3add3-224a-4fcd-92b7-0f2d98e7a547"
      },
      "outputs": [
        {
          "name": "stdout",
          "output_type": "stream",
          "text": [
            "1\n",
            "2\n",
            "3\n",
            "4\n",
            "5\n",
            "6\n",
            "7\n",
            "8\n",
            "9\n"
          ]
        }
      ],
      "source": [
        "for i in range(1,10):\n",
        "  print(i)\n"
      ]
    },
    {
      "cell_type": "code",
      "execution_count": null,
      "metadata": {
        "colab": {
          "base_uri": "https://localhost:8080/"
        },
        "id": "ZStWbZuF9s2z",
        "outputId": "e59b2089-45a0-472a-c071-04f3b284a772"
      },
      "outputs": [
        {
          "name": "stdout",
          "output_type": "stream",
          "text": [
            "0\n",
            "2\n",
            "4\n",
            "6\n",
            "8\n"
          ]
        }
      ],
      "source": [
        "for i in range(0,9,2):\n",
        "  print(i)"
      ]
    },
    {
      "cell_type": "code",
      "execution_count": null,
      "metadata": {
        "colab": {
          "base_uri": "https://localhost:8080/"
        },
        "id": "CmQM9d2ZZPJm",
        "outputId": "4fdfe03a-ed1b-4c22-977e-44cd62cfb618"
      },
      "outputs": [
        {
          "name": "stdout",
          "output_type": "stream",
          "text": [
            "1\n",
            "3\n",
            "5\n",
            "7\n",
            "9\n"
          ]
        }
      ],
      "source": [
        "for i in range(1,10,2):\n",
        "  print(i)"
      ]
    },
    {
      "cell_type": "code",
      "execution_count": null,
      "metadata": {
        "colab": {
          "base_uri": "https://localhost:8080/"
        },
        "id": "ULNUlcBdZaRx",
        "outputId": "354ac6b8-d64a-4933-88e3-e27fe4b14489"
      },
      "outputs": [
        {
          "name": "stdout",
          "output_type": "stream",
          "text": [
            "20\n",
            "30\n",
            "40\n",
            "50\n",
            "60\n"
          ]
        }
      ],
      "source": [
        "for i in range(20,70,10):\n",
        "  print(i)"
      ]
    },
    {
      "cell_type": "code",
      "execution_count": null,
      "metadata": {
        "id": "BxeN2t8EZlao"
      },
      "outputs": [],
      "source": []
    },
    {
      "cell_type": "code",
      "execution_count": null,
      "metadata": {
        "colab": {
          "base_uri": "https://localhost:8080/"
        },
        "id": "gLMhqi-Nt66G",
        "outputId": "06da6945-fefc-4f30-ceed-e88ff96f5259"
      },
      "outputs": [
        {
          "name": "stdout",
          "output_type": "stream",
          "text": [
            "2\n",
            "1\n",
            "2\n",
            "3\n",
            "4\n",
            "5\n"
          ]
        }
      ],
      "source": [
        "myinteger = str(212345)\n",
        "\n",
        "for ch in myinteger:\n",
        "  print"
      ]
    },
    {
      "cell_type": "code",
      "execution_count": null,
      "metadata": {
        "colab": {
          "base_uri": "https://localhost:8080/"
        },
        "id": "hx6TMIg3ucWh",
        "outputId": "ad9c0c35-a250-4bf3-81a1-b7e3a0d83640"
      },
      "outputs": [
        {
          "name": "stdout",
          "output_type": "stream",
          "text": [
            "Help on method_descriptor:\n",
            "\n",
            "isdigit(self, /)\n",
            "    Return True if the string is a digit string, False otherwise.\n",
            "    \n",
            "    A string is a digit string if all characters in the string are digits and there\n",
            "    is at least one character in the string.\n",
            "\n"
          ]
        }
      ],
      "source": [
        "help(str.isdigit)"
      ]
    },
    {
      "cell_type": "code",
      "execution_count": null,
      "metadata": {
        "colab": {
          "base_uri": "https://localhost:8080/"
        },
        "id": "D5usVXbRu1Qh",
        "outputId": "d813a746-700c-4d44-b070-49dc4b2e451c"
      },
      "outputs": [
        {
          "name": "stdout",
          "output_type": "stream",
          "text": [
            "Help on built-in function len in module builtins:\n",
            "\n",
            "len(obj, /)\n",
            "    Return the number of items in a container.\n",
            "\n"
          ]
        }
      ],
      "source": [
        "help(len)"
      ]
    },
    {
      "cell_type": "code",
      "execution_count": null,
      "metadata": {
        "colab": {
          "base_uri": "https://localhost:8080/"
        },
        "id": "EP-10CoIkM0u",
        "outputId": "b2ee7dbf-dda7-4c11-9843-57b9cdcd75ad"
      },
      "outputs": [
        {
          "name": "stdout",
          "output_type": "stream",
          "text": [
            "5\n",
            "12345"
          ]
        }
      ],
      "source": [
        "n=int(input())\n",
        "for i in range(1,n+1):\n",
        "  print(i,sep=\"\",end=\"\")"
      ]
    },
    {
      "cell_type": "code",
      "execution_count": null,
      "metadata": {
        "colab": {
          "base_uri": "https://localhost:8080/"
        },
        "id": "xFk4KFk9vLqE",
        "outputId": "7c1d019a-70b5-409d-a421-a1cefc3e63a5"
      },
      "outputs": [
        {
          "name": "stdout",
          "output_type": "stream",
          "text": [
            "please enter a whole numberghjk\n",
            "enter a whole number kindly not string67\n",
            "enter how many splits of whole number you want2\n",
            "string can be in 2 splits\n",
            " 67 splits are in increasing order\n"
          ]
        }
      ],
      "source": [
        "def check_increasing_order(l):\n",
        "  increasing_order = True\n",
        "  for i in range(0,len(l)-1):\n",
        "    if (l[i]>(l[i+1])):\n",
        "      return False\n",
        "  return True\n",
        "\n",
        "def main():\n",
        "\n",
        "  my_string = input('please enter a whole number')\n",
        "\n",
        "  while not my_string.isdigit():\n",
        "    my_string = input('enter a whole number kindly not string')\n",
        "\n",
        "  splits = int(input('enter how many splits of whole number you want'))\n",
        "\n",
        "\n",
        "  if len(my_string)%splits==0:\n",
        "    numbers = []\n",
        "    for j in range(0,len(my_string),splits):\n",
        "      numbers.append(my_string[j:j+splits])\n",
        "    print(\"string can be in\", splits ,\"splits\\n\", ','.join(numbers), end=\" \")\n",
        "\n",
        "    if check_increasing_order(numbers):\n",
        "      print('splits are in increasing order')\n",
        "\n",
        "    else:\n",
        "     print(\"splits are not in increasing order\")\n",
        "\n",
        "  if len(my_string)%splits != 0 :\n",
        "    print(\"number can't be divided into the number of splits u want\")\n",
        "\n",
        "main()\n",
        "\n",
        "\n",
        "\n",
        "\n",
        "\n",
        "\n",
        "\n"
      ]
    },
    {
      "cell_type": "code",
      "execution_count": null,
      "metadata": {
        "id": "zfZqtdOlnZaa"
      },
      "outputs": [],
      "source": [
        " # if len(my_string)%2==0:\n",
        "  #    numbers= []\n",
        "  #    for i in range (0,len(my_string),2):\n",
        "  #      numbers.append(my_string[i:i+2])\n",
        "\n",
        "  #    print(\"string can be in 2 splits\\n\", ','.join(numbers), end=\" \")\n",
        "\n",
        "  #    if check_increasing_order(numbers):\n",
        "  #     print('splits are in increasing order')\n",
        "\n",
        "  #    else:\n",
        "  #      print(\"splits are not in increasing order\")"
      ]
    },
    {
      "cell_type": "code",
      "execution_count": null,
      "metadata": {
        "colab": {
          "base_uri": "https://localhost:8080/",
          "height": 200
        },
        "id": "AZmUoAlo8EM-",
        "outputId": "d19f7c47-903d-4bc8-c62d-32a67dc32da4"
      },
      "outputs": [
        {
          "ename": "TypeError",
          "evalue": "ignored",
          "output_type": "error",
          "traceback": [
            "\u001b[0;31m---------------------------------------------------------------------------\u001b[0m",
            "\u001b[0;31mTypeError\u001b[0m                                 Traceback (most recent call last)",
            "\u001b[0;32m<ipython-input-13-4c048e23b612>\u001b[0m in \u001b[0;36m<module>\u001b[0;34m\u001b[0m\n\u001b[1;32m      1\u001b[0m \u001b[0mx\u001b[0m \u001b[0;34m=\u001b[0m \u001b[0;36m4\u001b[0m\u001b[0;34m\u001b[0m\u001b[0;34m\u001b[0m\u001b[0m\n\u001b[1;32m      2\u001b[0m \u001b[0;32mimport\u001b[0m \u001b[0mmath\u001b[0m\u001b[0;34m\u001b[0m\u001b[0;34m\u001b[0m\u001b[0m\n\u001b[0;32m----> 3\u001b[0;31m \u001b[0mmath\u001b[0m\u001b[0;34m.\u001b[0m\u001b[0msqrt\u001b[0m\u001b[0;34m(\u001b[0m\u001b[0;36m4\u001b[0m\u001b[0;34m,\u001b[0m\u001b[0;36m2\u001b[0m\u001b[0;34m)\u001b[0m\u001b[0;34m\u001b[0m\u001b[0;34m\u001b[0m\u001b[0m\n\u001b[0m",
            "\u001b[0;31mTypeError\u001b[0m: sqrt() takes exactly one argument (2 given)"
          ]
        }
      ],
      "source": [
        "x = 4\n",
        "import math\n",
        "math.sqrt(4,2)"
      ]
    },
    {
      "cell_type": "code",
      "execution_count": null,
      "metadata": {
        "colab": {
          "base_uri": "https://localhost:8080/"
        },
        "id": "AdNJZrLj8h2H",
        "outputId": "d818b464-bc88-4d1a-ccb3-7c5cef2151f3"
      },
      "outputs": [
        {
          "name": "stdout",
          "output_type": "stream",
          "text": [
            "1\n"
          ]
        }
      ],
      "source": [
        "x = eval('2 + 0')\n",
        "if x > 2:\n",
        "    print(x+1)\n",
        "else:\n",
        "    print(x-1)"
      ]
    },
    {
      "cell_type": "code",
      "execution_count": null,
      "metadata": {
        "colab": {
          "base_uri": "https://localhost:8080/"
        },
        "id": "pnZAbJ8t9DYO",
        "outputId": "179ce2a0-e348-449b-b7af-347aadff1a4a"
      },
      "outputs": [
        {
          "name": "stdout",
          "output_type": "stream",
          "text": [
            "10,9,8,7,6,5,4,3,2,1,"
          ]
        }
      ],
      "source": [
        "x = 12345678\n",
        "for i in range(10, 0, -1):\n",
        "    print(i, end = ',', sep = ':')"
      ]
    },
    {
      "cell_type": "code",
      "execution_count": null,
      "metadata": {
        "id": "9kd8D8Wb8qmD"
      },
      "outputs": [],
      "source": [
        "for num in range(2, 5,-1):\n",
        "    print(num, end=\", \")"
      ]
    },
    {
      "cell_type": "code",
      "execution_count": null,
      "metadata": {
        "colab": {
          "base_uri": "https://localhost:8080/"
        },
        "id": "XdU6VNNE8MNo",
        "outputId": "a0b618a4-ee3a-4bc6-df28-eacb510dce61"
      },
      "outputs": [
        {
          "name": "stdout",
          "output_type": "stream",
          "text": [
            "hassan 25\n"
          ]
        }
      ],
      "source": [
        "def fun1(name, age):\n",
        "    print( name, age)\n",
        "\n",
        "fun1('hassan', '25')"
      ]
    }
  ],
  "metadata": {
    "colab": {
      "provenance": []
    },
    "kernelspec": {
      "display_name": "Python 3",
      "name": "python3"
    },
    "language_info": {
      "name": "python"
    }
  },
  "nbformat": 4,
  "nbformat_minor": 0
}