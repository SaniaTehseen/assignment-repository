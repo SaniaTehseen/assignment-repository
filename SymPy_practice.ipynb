{
  "nbformat": 4,
  "nbformat_minor": 0,
  "metadata": {
    "colab": {
      "provenance": []
    },
    "kernelspec": {
      "name": "python3",
      "display_name": "Python 3"
    },
    "language_info": {
      "name": "python"
    }
  },
  "cells": [
    {
      "cell_type": "code",
      "execution_count": null,
      "metadata": {
        "id": "4QqxbGm7J2j2"
      },
      "outputs": [],
      "source": [
        "import sympy as smp\n",
        "from sympy import *\n",
        "#import numpy as np"
      ]
    },
    {
      "cell_type": "code",
      "source": [
        "x,y = smp.symbols(\"x y\")"
      ],
      "metadata": {
        "id": "-cxCQVH4J3_9"
      },
      "execution_count": null,
      "outputs": []
    },
    {
      "cell_type": "code",
      "source": [
        "smp.integrate((x/(x**2-4*x+13)**2),x)"
      ],
      "metadata": {
        "colab": {
          "base_uri": "https://localhost:8080/",
          "height": 57
        },
        "id": "QA4g8MiswzLv",
        "outputId": "b47bb326-ab74-41bc-f57b-10e151ab4009"
      },
      "execution_count": null,
      "outputs": [
        {
          "output_type": "execute_result",
          "data": {
            "text/plain": [
              "(2*x - 13)/(18*x**2 - 72*x + 234) + atan(x/3 - 2/3)/27"
            ],
            "text/latex": "$\\displaystyle \\frac{2 x - 13}{18 x^{2} - 72 x + 234} + \\frac{\\operatorname{atan}{\\left(\\frac{x}{3} - \\frac{2}{3} \\right)}}{27}$"
          },
          "metadata": {},
          "execution_count": 4
        }
      ]
    },
    {
      "cell_type": "code",
      "source": [
        "smp.integrate(2*x*(sin(x))/ (cos(x)**3),x)"
      ],
      "metadata": {
        "colab": {
          "base_uri": "https://localhost:8080/",
          "height": 108
        },
        "id": "vuSDLzk8xOa0",
        "outputId": "251bc5a1-1580-4ed9-b513-09d519b10610"
      },
      "execution_count": null,
      "outputs": [
        {
          "output_type": "execute_result",
          "data": {
            "text/plain": [
              "2*x*tan(x/2)**4/(2*tan(x/2)**4 - 4*tan(x/2)**2 + 2) + 4*x*tan(x/2)**2/(2*tan(x/2)**4 - 4*tan(x/2)**2 + 2) + 2*x/(2*tan(x/2)**4 - 4*tan(x/2)**2 + 2) + 4*tan(x/2)**3/(2*tan(x/2)**4 - 4*tan(x/2)**2 + 2) - 4*tan(x/2)/(2*tan(x/2)**4 - 4*tan(x/2)**2 + 2)"
            ],
            "text/latex": "$\\displaystyle \\frac{2 x \\tan^{4}{\\left(\\frac{x}{2} \\right)}}{2 \\tan^{4}{\\left(\\frac{x}{2} \\right)} - 4 \\tan^{2}{\\left(\\frac{x}{2} \\right)} + 2} + \\frac{4 x \\tan^{2}{\\left(\\frac{x}{2} \\right)}}{2 \\tan^{4}{\\left(\\frac{x}{2} \\right)} - 4 \\tan^{2}{\\left(\\frac{x}{2} \\right)} + 2} + \\frac{2 x}{2 \\tan^{4}{\\left(\\frac{x}{2} \\right)} - 4 \\tan^{2}{\\left(\\frac{x}{2} \\right)} + 2} + \\frac{4 \\tan^{3}{\\left(\\frac{x}{2} \\right)}}{2 \\tan^{4}{\\left(\\frac{x}{2} \\right)} - 4 \\tan^{2}{\\left(\\frac{x}{2} \\right)} + 2} - \\frac{4 \\tan{\\left(\\frac{x}{2} \\right)}}{2 \\tan^{4}{\\left(\\frac{x}{2} \\right)} - 4 \\tan^{2}{\\left(\\frac{x}{2} \\right)} + 2}$"
          },
          "metadata": {},
          "execution_count": 8
        }
      ]
    },
    {
      "cell_type": "code",
      "source": [
        "smp.integrate((1+smp.sqrt(x)**smp.Rational(1,3))/(smp.sqrt(x)),x) #/ pr answer nai derha chalay jarha hy"
      ],
      "metadata": {
        "colab": {
          "base_uri": "https://localhost:8080/",
          "height": 56
        },
        "id": "x7v_UWGuJ7LK",
        "outputId": "0506a949-a731-4d4d-85a0-fcd3768e6032"
      },
      "execution_count": null,
      "outputs": [
        {
          "output_type": "execute_result",
          "data": {
            "text/plain": [
              "3*x**(2/3)/2 + 2*sqrt(x)"
            ],
            "text/latex": "$\\displaystyle \\frac{3 x^{\\frac{2}{3}}}{2} + 2 \\sqrt{x}$"
          },
          "metadata": {},
          "execution_count": 5
        }
      ]
    },
    {
      "cell_type": "code",
      "source": [
        "smp.integrate(x*(1-x**2)**smp.Rational(1,4),x)"
      ],
      "metadata": {
        "colab": {
          "base_uri": "https://localhost:8080/",
          "height": 56
        },
        "id": "jm8DPDQgKOfa",
        "outputId": "f5df101f-8195-4709-c4a4-0c948fa1a3f2"
      },
      "execution_count": null,
      "outputs": [
        {
          "output_type": "execute_result",
          "data": {
            "text/plain": [
              "2*x**2*(1 - x**2)**(1/4)/5 - 2*(1 - x**2)**(1/4)/5"
            ],
            "text/latex": "$\\displaystyle \\frac{2 x^{2} \\sqrt[4]{1 - x^{2}}}{5} - \\frac{2 \\sqrt[4]{1 - x^{2}}}{5}$"
          },
          "metadata": {},
          "execution_count": 6
        }
      ]
    },
    {
      "cell_type": "code",
      "source": [
        "smp.integrate((x**4)*(3-5*x**5)**smp.Rational(1,3),x)#check later"
      ],
      "metadata": {
        "colab": {
          "base_uri": "https://localhost:8080/",
          "height": 56
        },
        "id": "5V-L7H0SKbE8",
        "outputId": "8cb51550-7990-4dab-8a07-9d638513cea9"
      },
      "execution_count": null,
      "outputs": [
        {
          "output_type": "execute_result",
          "data": {
            "text/plain": [
              "3*x**5*(3 - 5*x**5)**(1/3)/20 - 9*(3 - 5*x**5)**(1/3)/100"
            ],
            "text/latex": "$\\displaystyle \\frac{3 x^{5} \\sqrt[3]{3 - 5 x^{5}}}{20} - \\frac{9 \\sqrt[3]{3 - 5 x^{5}}}{100}$"
          },
          "metadata": {},
          "execution_count": 9
        }
      ]
    },
    {
      "cell_type": "code",
      "source": [
        "#y.suba(x,5)-y.subs(x,2)"
      ],
      "metadata": {
        "id": "XtvuV4ziLP1F"
      },
      "execution_count": null,
      "outputs": []
    },
    {
      "cell_type": "code",
      "source": [
        "z= smp.integrate(5-3*smp.sqrt(1-x**2),x)\n",
        "z"
      ],
      "metadata": {
        "colab": {
          "base_uri": "https://localhost:8080/",
          "height": 56
        },
        "id": "idpAp11KSBvt",
        "outputId": "45c346d1-50bd-4728-a567-dadc3538e906"
      },
      "execution_count": null,
      "outputs": [
        {
          "output_type": "execute_result",
          "data": {
            "text/plain": [
              "-3*x*sqrt(1 - x**2)/2 + 5*x - 3*asin(x)/2"
            ],
            "text/latex": "$\\displaystyle - \\frac{3 x \\sqrt{1 - x^{2}}}{2} + 5 x - \\frac{3 \\operatorname{asin}{\\left(x \\right)}}{2}$"
          },
          "metadata": {},
          "execution_count": 7
        }
      ]
    },
    {
      "cell_type": "code",
      "source": [
        "(z.subs(x,1))-(z.subs(x,0))\n"
      ],
      "metadata": {
        "colab": {
          "base_uri": "https://localhost:8080/",
          "height": 51
        },
        "id": "tLK2KpkPSNeZ",
        "outputId": "7137cc0d-0b67-420f-a35a-14e6fff8d308"
      },
      "execution_count": null,
      "outputs": [
        {
          "output_type": "execute_result",
          "data": {
            "text/plain": [
              "5 - 3*pi/4"
            ],
            "text/latex": "$\\displaystyle 5 - \\frac{3 \\pi}{4}$"
          },
          "metadata": {},
          "execution_count": 8
        }
      ]
    },
    {
      "cell_type": "code",
      "source": [
        "j=smp.integrate(smp.sqrt(4-x**2),x)\n",
        "j"
      ],
      "metadata": {
        "colab": {
          "base_uri": "https://localhost:8080/",
          "height": 56
        },
        "id": "KZCupEDISeip",
        "outputId": "9b36b975-a16b-4f6a-8aef-7b63e1fc6f0f"
      },
      "execution_count": null,
      "outputs": [
        {
          "output_type": "execute_result",
          "data": {
            "text/plain": [
              "x*sqrt(4 - x**2)/2 + 2*asin(x/2)"
            ],
            "text/latex": "$\\displaystyle \\frac{x \\sqrt{4 - x^{2}}}{2} + 2 \\operatorname{asin}{\\left(\\frac{x}{2} \\right)}$"
          },
          "metadata": {},
          "execution_count": 15
        }
      ]
    },
    {
      "cell_type": "code",
      "source": [
        "ans = (j.subs(x,0))-(j.subs(x,2))\n",
        "ans"
      ],
      "metadata": {
        "colab": {
          "base_uri": "https://localhost:8080/",
          "height": 38
        },
        "id": "1m7YcqVCURzd",
        "outputId": "42012887-42c1-43d9-aff9-7f7555c7bfce"
      },
      "execution_count": null,
      "outputs": [
        {
          "output_type": "execute_result",
          "data": {
            "text/plain": [
              "-pi"
            ],
            "text/latex": "$\\displaystyle - \\pi$"
          },
          "metadata": {},
          "execution_count": 17
        }
      ]
    },
    {
      "cell_type": "markdown",
      "source": [
        "**DEFINITE INTEGRALS**"
      ],
      "metadata": {
        "id": "OJ4pmzCHIDwY"
      }
    },
    {
      "cell_type": "code",
      "source": [
        "abc=smp.integrate(1/smp.sqrt(1-x),x)\n",
        "abc"
      ],
      "metadata": {
        "id": "c6ZxtYGZUYPp",
        "colab": {
          "base_uri": "https://localhost:8080/",
          "height": 38
        },
        "outputId": "5361aec1-33ac-44cb-c6ac-72503142c483"
      },
      "execution_count": null,
      "outputs": [
        {
          "output_type": "execute_result",
          "data": {
            "text/plain": [
              "-2*sqrt(1 - x)"
            ],
            "text/latex": "$\\displaystyle - 2 \\sqrt{1 - x}$"
          },
          "metadata": {},
          "execution_count": 3
        }
      ]
    },
    {
      "cell_type": "code",
      "source": [
        "ans = (abc.subs(x,1))-(abc.subs(x,0))\n",
        "ans"
      ],
      "metadata": {
        "colab": {
          "base_uri": "https://localhost:8080/",
          "height": 37
        },
        "id": "sd8-JT6PLrLz",
        "outputId": "ec87308e-ec5a-4f7e-cc65-d50e625c3033"
      },
      "execution_count": null,
      "outputs": [
        {
          "output_type": "execute_result",
          "data": {
            "text/plain": [
              "2"
            ],
            "text/latex": "$\\displaystyle 2$"
          },
          "metadata": {},
          "execution_count": 5
        }
      ]
    },
    {
      "cell_type": "code",
      "source": [
        "z= smp.integrate(1/(x-2)**smp.Rational(2,3),x)\n",
        "z"
      ],
      "metadata": {
        "colab": {
          "base_uri": "https://localhost:8080/",
          "height": 38
        },
        "id": "8liOw3rBL36J",
        "outputId": "bc5572d1-e4f0-469e-f4ac-8d70178e0f5d"
      },
      "execution_count": null,
      "outputs": [
        {
          "output_type": "execute_result",
          "data": {
            "text/plain": [
              "3*(x - 2)**(1/3)"
            ],
            "text/latex": "$\\displaystyle 3 \\sqrt[3]{x - 2}$"
          },
          "metadata": {},
          "execution_count": 7
        }
      ]
    },
    {
      "cell_type": "code",
      "source": [
        "xyz= (z.subs(x,4))-(z.subs(x,1))\n",
        "xyz"
      ],
      "metadata": {
        "colab": {
          "base_uri": "https://localhost:8080/",
          "height": 39
        },
        "id": "MEwj61-sOlbN",
        "outputId": "826e16f2-f8f6-436f-b1b3-a9cbfdf9cd5b"
      },
      "execution_count": null,
      "outputs": [
        {
          "output_type": "execute_result",
          "data": {
            "text/plain": [
              "3*2**(1/3) - 3*(-1)**(1/3)"
            ],
            "text/latex": "$\\displaystyle 3 \\sqrt[3]{2} - 3 \\sqrt[3]{-1}$"
          },
          "metadata": {},
          "execution_count": 12
        }
      ]
    },
    {
      "cell_type": "code",
      "source": [
        "smp.integrate(x/(smp.sqrt(1+x)),x)"
      ],
      "metadata": {
        "id": "FmWD5gKSUVQK",
        "colab": {
          "base_uri": "https://localhost:8080/",
          "height": 55
        },
        "outputId": "5e0a8845-a4a2-4735-fb71-98a8ba65c33e"
      },
      "execution_count": null,
      "outputs": [
        {
          "output_type": "execute_result",
          "data": {
            "text/plain": [
              "2*x*sqrt(x + 1)/3 - 4*sqrt(x + 1)/3"
            ],
            "text/latex": "$\\displaystyle \\frac{2 x \\sqrt{x + 1}}{3} - \\frac{4 \\sqrt{x + 1}}{3}$"
          },
          "metadata": {},
          "execution_count": 4
        }
      ]
    },
    {
      "cell_type": "code",
      "source": [
        "smp.integrate(((x**3+1)*smp.Rational(7,5)*x**5),x)"
      ],
      "metadata": {
        "colab": {
          "base_uri": "https://localhost:8080/",
          "height": 54
        },
        "id": "1h4zMFPYyNSR",
        "outputId": "86bfe9dd-bd9e-4535-9636-7c328a0f061b"
      },
      "execution_count": null,
      "outputs": [
        {
          "output_type": "execute_result",
          "data": {
            "text/plain": [
              "7*x**9/45 + 7*x**6/30"
            ],
            "text/latex": "$\\displaystyle \\frac{7 x^{9}}{45} + \\frac{7 x^{6}}{30}$"
          },
          "metadata": {},
          "execution_count": 6
        }
      ]
    },
    {
      "cell_type": "code",
      "source": [],
      "metadata": {
        "id": "t3K38wu4W8jb"
      },
      "execution_count": null,
      "outputs": []
    },
    {
      "cell_type": "code",
      "source": [
        "smp.integrate(x*(1-x**2)**smp.Rational(1/4),x)"
      ],
      "metadata": {
        "id": "yjC1fSyrSvpX",
        "colab": {
          "base_uri": "https://localhost:8080/",
          "height": 56
        },
        "outputId": "b5729d07-e58c-4a19-997c-8a77465d3bdc"
      },
      "execution_count": null,
      "outputs": [
        {
          "output_type": "execute_result",
          "data": {
            "text/plain": [
              "2*x**2*(1 - x**2)**(1/4)/5 - 2*(1 - x**2)**(1/4)/5"
            ],
            "text/latex": "$\\displaystyle \\frac{2 x^{2} \\sqrt[4]{1 - x^{2}}}{5} - \\frac{2 \\sqrt[4]{1 - x^{2}}}{5}$"
          },
          "metadata": {},
          "execution_count": 4
        }
      ]
    },
    {
      "cell_type": "code",
      "source": [
        "smp.integrate((1+smp.sqrt(x))**smp.Rational(1/3)/smp.sqrt(x),x)"
      ],
      "metadata": {
        "id": "G0OPD1fTINX8"
      },
      "execution_count": null,
      "outputs": []
    }
  ]
}