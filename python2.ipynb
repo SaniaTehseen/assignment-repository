{
  "nbformat": 4,
  "nbformat_minor": 0,
  "metadata": {
    "colab": {
      "provenance": []
    },
    "kernelspec": {
      "name": "python3",
      "display_name": "Python 3"
    },
    "language_info": {
      "name": "python"
    }
  },
  "cells": [
    {
      "cell_type": "code",
      "execution_count": null,
      "metadata": {
        "colab": {
          "base_uri": "https://localhost:8080/"
        },
        "id": "WARbUdux7nUw",
        "outputId": "0c69c73a-feeb-4171-d91b-f906d575b1e6"
      },
      "outputs": [
        {
          "output_type": "stream",
          "name": "stdout",
          "text": [
            "enter a number58\n",
            "[2, 29, 58]\n",
            "[2, 29, 58]\n",
            "the smallest divisor of 58 is 2\n"
          ]
        }
      ],
      "source": [
        "a=eval(input(\"enter a number\"))\n",
        "b=[]\n",
        "for i in range(2,a+1):\n",
        "  if a%i == 0:\n",
        "    b.append(i)\n",
        "print(b)\n",
        "b.sort()\n",
        "print(b)\n",
        "print(\"the smallest divisor of\",a,\"is\",b[0])\n"
      ]
    },
    {
      "cell_type": "code",
      "source": [
        "pets = ['cat', 'dog', 'fish', 'bird']\n",
        "for i in range(len(pets)):\n",
        "   print(pets[i], end=' ')"
      ],
      "metadata": {
        "colab": {
          "base_uri": "https://localhost:8080/"
        },
        "id": "axmFLYLRWtwY",
        "outputId": "e3fbf322-e826-4afc-dcb7-0c17beb4d0d1"
      },
      "execution_count": null,
      "outputs": [
        {
          "output_type": "stream",
          "name": "stdout",
          "text": [
            "cat dog fish bird "
          ]
        }
      ]
    },
    {
      "cell_type": "code",
      "source": [
        "def arithmetic(lst):\n",
        "  if len(lst)>1:\n",
        "    return True\n",
        "  diff = lst[1]-lst[0]\n",
        "  for i in range(1,len(lst)-1):\n",
        "    if lst[i+1]-lst[i]!= diff:\n",
        "\n",
        "      return False\n",
        "    return True\n",
        "lst=[2,4,6,8,10]\n",
        "arithmetic(lst)\n"
      ],
      "metadata": {
        "colab": {
          "base_uri": "https://localhost:8080/"
        },
        "id": "Sw2fQuw6a9xr",
        "outputId": "4ac612f6-2476-4f76-e482-3cca107f0be1"
      },
      "execution_count": null,
      "outputs": [
        {
          "output_type": "execute_result",
          "data": {
            "text/plain": [
              "True"
            ]
          },
          "metadata": {},
          "execution_count": 3
        }
      ]
    },
    {
      "cell_type": "code",
      "source": [
        "b=[]\n",
        "for i in range(1,51):\n",
        "  if i%2 != 0 and i%3 != 0:\n",
        "    b.append(i)\n",
        "print(b)"
      ],
      "metadata": {
        "colab": {
          "base_uri": "https://localhost:8080/"
        },
        "id": "Ht6oN47z8Z3j",
        "outputId": "32227732-92a5-4c38-ed54-31b5fc544360"
      },
      "execution_count": null,
      "outputs": [
        {
          "output_type": "stream",
          "name": "stdout",
          "text": [
            "[1, 5, 7, 11, 13, 17, 19, 23, 25, 29, 31, 35, 37, 41, 43, 47, 49]\n"
          ]
        }
      ]
    },
    {
      "cell_type": "code",
      "source": [
        "for i in range(1,51):\n",
        "  if i%2 != 0 and i%3 != 0:\n",
        "    i=str(i)\n",
        "    print(i+\",\",end=\"\")"
      ],
      "metadata": {
        "colab": {
          "base_uri": "https://localhost:8080/"
        },
        "id": "s-HBsVs2_WEd",
        "outputId": "4b247f2e-c4da-41e4-dd2b-e2cd67ddeea1"
      },
      "execution_count": null,
      "outputs": [
        {
          "output_type": "stream",
          "name": "stdout",
          "text": [
            "1,5,7,11,13,17,19,23,25,29,31,35,37,41,43,47,49,"
          ]
        }
      ]
    },
    {
      "cell_type": "code",
      "source": [
        "b=[]\n",
        "for i in range(1,51):\n",
        "  if i%2 != 0 or i%3 != 0:\n",
        "    b.append(i)\n",
        "print(b)"
      ],
      "metadata": {
        "colab": {
          "base_uri": "https://localhost:8080/"
        },
        "id": "9GoOKp8NCBGA",
        "outputId": "8a086b02-7abc-4088-e1c6-bd0026992009"
      },
      "execution_count": null,
      "outputs": [
        {
          "output_type": "stream",
          "name": "stdout",
          "text": [
            "[1, 2, 3, 4, 5, 7, 8, 9, 10, 11, 13, 14, 15, 16, 17, 19, 20, 21, 22, 23, 25, 26, 27, 28, 29, 31, 32, 33, 34, 35, 37, 38, 39, 40, 41, 43, 44, 45, 46, 47, 49, 50]\n"
          ]
        }
      ]
    },
    {
      "cell_type": "code",
      "source": [
        "n1=int(input(\"enter a number\"))\n",
        "n2=int(input(\"enter a number\"))\n",
        "n3=int(input(\"enter a number\"))\n",
        "d=[]\n",
        "d.append(n1)\n",
        "d.append(n2)\n",
        "d.append(n3)\n",
        "for i in range(0,3):\n",
        "  for j in range(0,3):\n",
        "    for k in range(0,3):\n",
        "      if(i != j and j != k and k !=i):\n",
        "        print(d[i],d[j],d[k])\n"
      ],
      "metadata": {
        "colab": {
          "base_uri": "https://localhost:8080/"
        },
        "id": "emO4jeGcGGzh",
        "outputId": "a84fbc8d-f5f7-4719-df19-9cec2d7dbab4"
      },
      "execution_count": null,
      "outputs": [
        {
          "output_type": "stream",
          "name": "stdout",
          "text": [
            "enter a number6\n",
            "enter a number7\n",
            "enter a number8\n",
            "6 7 8\n",
            "6 8 7\n",
            "7 6 8\n",
            "7 8 6\n",
            "8 6 7\n",
            "8 7 6\n"
          ]
        }
      ]
    },
    {
      "cell_type": "code",
      "source": [
        "lst=[1,2,3,4,5]\n",
        "for i in range(0,len(a)-1):\n",
        "  if(lst[i]>lst[i+1]):\n",
        "    print(i)\n"
      ],
      "metadata": {
        "id": "LZdvXmC3D_k5"
      },
      "execution_count": null,
      "outputs": []
    },
    {
      "cell_type": "code",
      "source": [
        "lst =[1,2,3,4,5]\n",
        "for i in lst[::-1]:\n",
        "\n"
      ],
      "metadata": {
        "id": "ybla2TvIFs3f"
      },
      "execution_count": null,
      "outputs": []
    },
    {
      "cell_type": "code",
      "source": [
        "lst = [1,2,3,4]\n",
        "lst.sort(reverse = True)\n",
        "print(lst[1])\n"
      ],
      "metadata": {
        "id": "6doAhMfqPUFC",
        "colab": {
          "base_uri": "https://localhost:8080/"
        },
        "outputId": "bf1edd85-9f0e-45e9-cab6-7aed51a18836"
      },
      "execution_count": null,
      "outputs": [
        {
          "output_type": "stream",
          "name": "stdout",
          "text": [
            "3\n"
          ]
        }
      ]
    },
    {
      "cell_type": "code",
      "source": [
        "lst=[1,2,3,4]\n",
        "for i in lst[::-1]:\n",
        "  x=lst[0]\n",
        "\n",
        "print(x)"
      ],
      "metadata": {
        "colab": {
          "base_uri": "https://localhost:8080/"
        },
        "id": "cKE5hNwuzd2d",
        "outputId": "bfef16fd-07f7-43ba-a1f5-8df926a4ea14"
      },
      "execution_count": null,
      "outputs": [
        {
          "output_type": "stream",
          "name": "stdout",
          "text": [
            "1\n"
          ]
        }
      ]
    },
    {
      "cell_type": "code",
      "source": [
        "lst=[1,2,3,4]\n",
        "a = lst[::-1]\n",
        "print(a[0])"
      ],
      "metadata": {
        "colab": {
          "base_uri": "https://localhost:8080/"
        },
        "id": "jJweYKVq0u1P",
        "outputId": "014633b8-73f8-4816-a682-3a154c3ca0a8"
      },
      "execution_count": null,
      "outputs": [
        {
          "output_type": "stream",
          "name": "stdout",
          "text": [
            "4\n"
          ]
        }
      ]
    },
    {
      "cell_type": "code",
      "source": [
        "lst = []\n",
        "lst2=[]\n",
        "lst3=[]\n",
        "for i in range(1,11):\n",
        "  if i%2 == 0:\n",
        "    lst.append(i)\n",
        "  else:\n",
        "    lst2.append(i)\n",
        "# lst3.append(lst)\n",
        "# lst3.append(lst2)\n",
        "# print(lst3)\n",
        "lst3.extend(lst)\n",
        "lst3.extend(lst2)\n",
        "print(lst3)"
      ],
      "metadata": {
        "colab": {
          "base_uri": "https://localhost:8080/"
        },
        "id": "HHrII04x1bZB",
        "outputId": "b5922158-e81f-4a62-8bd8-4a8a92cda898"
      },
      "execution_count": null,
      "outputs": [
        {
          "output_type": "stream",
          "name": "stdout",
          "text": [
            "[2, 4, 6, 8, 10, 1, 3, 5, 7, 9]\n"
          ]
        }
      ]
    },
    {
      "cell_type": "code",
      "source": [
        "lst = [1,[2,4,6,1],6]\n",
        "lst[1].sort()\n",
        "print(lst)"
      ],
      "metadata": {
        "colab": {
          "base_uri": "https://localhost:8080/"
        },
        "id": "8mJwdOcX3hMG",
        "outputId": "e18a31f8-3ae3-4049-c841-ac96b0b990aa"
      },
      "execution_count": null,
      "outputs": [
        {
          "output_type": "stream",
          "name": "stdout",
          "text": [
            "[1, [1, 2, 4, 6], 6]\n"
          ]
        }
      ]
    },
    {
      "cell_type": "code",
      "source": [
        "a=[['A',34],['B',21],['C',26]]\n",
        "for i in range(0,len(a)):\n",
        "    print(i)\n",
        "    for j in range(0,len(a)-i-1):\n",
        "        print(j)\n",
        "        if(a[j][1]>a[j+1][1]):\n",
        "            temp=a[j]\n",
        "            a[j]=a[j+1]\n",
        "            a[j+1]=temp\n",
        "\n",
        "print(a)"
      ],
      "metadata": {
        "colab": {
          "base_uri": "https://localhost:8080/"
        },
        "id": "_RZoB9IO6X0m",
        "outputId": "e44affb8-0e18-45bf-fddf-abb8fe294dd3"
      },
      "execution_count": null,
      "outputs": [
        {
          "output_type": "stream",
          "name": "stdout",
          "text": [
            "0\n",
            "0\n",
            "1\n",
            "1\n",
            "0\n",
            "2\n",
            "[['B', 21], ['C', 26], ['A', 34]]\n"
          ]
        }
      ]
    },
    {
      "cell_type": "code",
      "source": [
        "lst=[[2,4],[1,6]]\n",
        "print(max(lst))"
      ],
      "metadata": {
        "colab": {
          "base_uri": "https://localhost:8080/"
        },
        "id": "CCwii4ID9iUy",
        "outputId": "d452554a-eb2e-4e71-8abf-27a69c6568c4"
      },
      "execution_count": null,
      "outputs": [
        {
          "output_type": "stream",
          "name": "stdout",
          "text": [
            "[2, 4]\n"
          ]
        }
      ]
    },
    {
      "cell_type": "markdown",
      "source": [
        "## union of lists\n"
      ],
      "metadata": {
        "id": "tT1WyV4XDHOW"
      }
    },
    {
      "cell_type": "code",
      "source": [
        "# Python program to illustrate union\n",
        "# Maintained repetition\n",
        "def Union(lst1, lst2):\n",
        "    final_list = lst1 + lst2\n",
        "    return final_list\n",
        "\n",
        "# Driver Code\n",
        "lst1 = [23, 15, 2, 14, 14, 16, 20 ,52]\n",
        "lst2 = [2, 48, 15, 12, 26, 32, 47, 54]\n",
        "print(Union(lst1, lst2))"
      ],
      "metadata": {
        "id": "GeaNzKfdDG07",
        "colab": {
          "base_uri": "https://localhost:8080/"
        },
        "outputId": "5204ee77-8f4d-4319-81d0-2345fb493330"
      },
      "execution_count": null,
      "outputs": [
        {
          "output_type": "stream",
          "name": "stdout",
          "text": [
            "[23, 15, 2, 14, 14, 16, 20, 52, 2, 48, 15, 12, 26, 32, 47, 54]\n"
          ]
        }
      ]
    },
    {
      "cell_type": "code",
      "source": [
        "# Python program to illustrate union\n",
        "# Maintained repetition and order\n",
        "def Union(lst1, lst2):\n",
        "    final_list = sorted(lst1 + lst2)\n",
        "    return final_list\n",
        "\n",
        "# Driver Code\n",
        "lst1 = [23, 15, 2, 14, 14, 16, 20 ,52]\n",
        "lst2 = [2, 48, 15, 12, 26, 32, 47, 54]\n",
        "print(Union(lst1, lst2))"
      ],
      "metadata": {
        "id": "Gj4fzCNy_D8v",
        "colab": {
          "base_uri": "https://localhost:8080/"
        },
        "outputId": "55b0c66a-7056-4188-f201-eb5fe2092c6e"
      },
      "execution_count": null,
      "outputs": [
        {
          "output_type": "stream",
          "name": "stdout",
          "text": [
            "[2, 2, 12, 14, 14, 15, 15, 16, 20, 23, 26, 32, 47, 48, 52, 54]\n"
          ]
        }
      ]
    },
    {
      "cell_type": "code",
      "source": [
        "#To get rid of all the repetitive elements from the initial list, we use the set() function on both the lists,\n",
        "#individually. Then we add them using the “+” operator and pass as a new list.\n",
        "\n",
        "\n",
        "# Python program to illustrate union\n",
        "# Without repetition\n",
        "def Union(lst1, lst2):\n",
        "    final_list = list(set(lst1) & set(lst2))\n",
        "    return final_list\n",
        "\n",
        "# Driver Code\n",
        "lst1 = [23, 15, 2, 14, 14, 16, 20 ,52]\n",
        "lst2 = [2, 48, 15, 12, 26, 32, 47, 54]\n",
        "print(Union(lst1, lst2))"
      ],
      "metadata": {
        "id": "-zexDhuZDaIE",
        "colab": {
          "base_uri": "https://localhost:8080/"
        },
        "outputId": "9be9dcb1-c4a2-477f-d8b3-eb5f256dcd74"
      },
      "execution_count": null,
      "outputs": [
        {
          "output_type": "stream",
          "name": "stdout",
          "text": [
            "[2, 15]\n"
          ]
        }
      ]
    },
    {
      "cell_type": "code",
      "source": [
        "# We can also make an union of more than two lists.\n",
        "# This can be done efficiently by using both the set() and union() function, simultaneously, as shown in the below example.\n",
        "#  also takes care of the repetition and prevents them.\n",
        "\n",
        "\n",
        "# Python program to illustrate union\n",
        "# Union of three lists\n",
        "def Union(lst1, lst2, lst3):\n",
        "    final_list = list(set().union(lst1, lst2, lst3))\n",
        "    return final_list\n",
        "\n",
        "# Driver Code\n",
        "lst1 = [23, 15, 2, 14, 14, 16, 20 ,52]\n",
        "lst2 = [2, 48, 15, 12, 26, 32, 47, 54]\n",
        "lst3 = [4, 78, 5, 6, 9, 25, 64, 32, 59]\n",
        "print(Union(lst1, lst2, lst3))"
      ],
      "metadata": {
        "id": "L0q4FNZRDtdU"
      },
      "execution_count": null,
      "outputs": []
    },
    {
      "cell_type": "code",
      "source": [
        "a=1234\n",
        "inv=0\n",
        "while a>0:\n",
        "  r=a%10\n",
        "  inv=inv*10+r\n",
        "  a=a//10\n",
        "print(\"the reverse of enetred number is\",inv)"
      ],
      "metadata": {
        "colab": {
          "base_uri": "https://localhost:8080/"
        },
        "id": "2fDWXmzk3ktC",
        "outputId": "ffccf702-dac2-4044-b159-3578e99e3d70"
      },
      "execution_count": null,
      "outputs": [
        {
          "output_type": "stream",
          "name": "stdout",
          "text": [
            "the reverse of enetred number is 4321\n"
          ]
        }
      ]
    },
    {
      "cell_type": "code",
      "source": [
        "def factorial(n):\n",
        "  'returns n! for input integer n'\n",
        "  res = 1\n",
        "  for i in range(2, n+1):\n",
        "    res *= i\n",
        "  return res\n",
        "print(factorial(5))"
      ],
      "metadata": {
        "id": "5u-SOqWl3ptW",
        "colab": {
          "base_uri": "https://localhost:8080/"
        },
        "outputId": "a60815c0-4a8d-462a-d500-51335c1284e8"
      },
      "execution_count": null,
      "outputs": [
        {
          "output_type": "stream",
          "name": "stdout",
          "text": [
            "120\n"
          ]
        }
      ]
    },
    {
      "cell_type": "code",
      "source": [
        "def divisors(n):\n",
        "  NOD=[]\n",
        "  for i in range(1,n+1):\n",
        "    if n%i==0:\n",
        "      NOD.append(i)\n",
        "  return NOD\n",
        "print(divisors(8))"
      ],
      "metadata": {
        "colab": {
          "base_uri": "https://localhost:8080/"
        },
        "id": "2QEznPCIf2o7",
        "outputId": "d281ddad-a38b-4122-ae40-1443d25b04a4"
      },
      "execution_count": null,
      "outputs": [
        {
          "output_type": "stream",
          "name": "stdout",
          "text": [
            "[1, 2, 4, 8]\n"
          ]
        }
      ]
    },
    {
      "cell_type": "code",
      "source": [
        "def nested(n,a):\n",
        "  for j in range (n):\n",
        "\n",
        "    for i in range(a):\n",
        "      print(i)\n",
        "  return i\n",
        "print(nested(5,3))"
      ],
      "metadata": {
        "colab": {
          "base_uri": "https://localhost:8080/"
        },
        "id": "ZqanWtVElUtc",
        "outputId": "f282d39b-356f-4fb5-b66b-186b5f1dddbc"
      },
      "execution_count": null,
      "outputs": [
        {
          "output_type": "stream",
          "name": "stdout",
          "text": [
            "0\n",
            "1\n",
            "2\n",
            "0\n",
            "1\n",
            "2\n",
            "0\n",
            "1\n",
            "2\n",
            "0\n",
            "1\n",
            "2\n",
            "0\n",
            "1\n",
            "2\n",
            "2\n"
          ]
        }
      ]
    },
    {
      "cell_type": "code",
      "source": [
        "print(type(0xFF))"
      ],
      "metadata": {
        "colab": {
          "base_uri": "https://localhost:8080/"
        },
        "id": "sLTiH59WnHlk",
        "outputId": "49a1c208-5f70-4fa2-b3e0-bd34766ef86d"
      },
      "execution_count": null,
      "outputs": [
        {
          "output_type": "stream",
          "name": "stdout",
          "text": [
            "<class 'int'>\n"
          ]
        }
      ]
    },
    {
      "cell_type": "code",
      "source": [
        "name=\"sania\"\n",
        "name=name*5\n",
        "print(name)\n"
      ],
      "metadata": {
        "colab": {
          "base_uri": "https://localhost:8080/"
        },
        "id": "geZZLs-pRN__",
        "outputId": "fcac0d00-ed53-49dd-8458-3e46faaf99c2"
      },
      "execution_count": null,
      "outputs": [
        {
          "output_type": "stream",
          "name": "stdout",
          "text": [
            "saniasaniasaniasaniasania\n"
          ]
        }
      ]
    },
    {
      "cell_type": "code",
      "source": [
        "for num in range(10,14):\n",
        "  for i in range(2,num):\n",
        "    if num%i==1:\n",
        "      print(num)\n",
        "      break"
      ],
      "metadata": {
        "colab": {
          "base_uri": "https://localhost:8080/"
        },
        "id": "uWEJ63SNSoSI",
        "outputId": "79ee150e-24ff-4db8-c9ab-b06773c91eee"
      },
      "execution_count": null,
      "outputs": [
        {
          "output_type": "stream",
          "name": "stdout",
          "text": [
            "10\n",
            "11\n",
            "12\n",
            "13\n"
          ]
        }
      ]
    },
    {
      "cell_type": "code",
      "source": [
        "lst= ['Alan Turing', 'Ken Thompson', 'Vint Cerf']\n",
        "for name in lst:\n",
        "  fl = name.split()\n",
        "  print(fl[0], fl[1])"
      ],
      "metadata": {
        "colab": {
          "base_uri": "https://localhost:8080/"
        },
        "id": "xzUaz1XfUSyF",
        "outputId": "95e2845d-41d0-44ef-e709-0575ee9b184c"
      },
      "execution_count": null,
      "outputs": [
        {
          "output_type": "stream",
          "name": "stdout",
          "text": [
            "Alan Turing\n",
            "Ken Thompson\n",
            "Vint Cerf\n"
          ]
        }
      ]
    },
    {
      "cell_type": "code",
      "source": [
        "def g(x):\n",
        "  x= 5\n",
        "\n",
        "g(3)"
      ],
      "metadata": {
        "id": "MGVxyZPbZXmO"
      },
      "execution_count": null,
      "outputs": []
    },
    {
      "cell_type": "code",
      "source": [
        "def cities2():\n",
        "  lst= []\n",
        "  while True:\n",
        "    city = input('Enter city: ')\n",
        "    if city == '':\n",
        "      return lst\n",
        "    lst.append(city)\n",
        "\n",
        "cities2()"
      ],
      "metadata": {
        "id": "NCPnCS9tIzCL",
        "colab": {
          "base_uri": "https://localhost:8080/"
        },
        "outputId": "11abdc3d-7a61-43ea-98ba-7cd1d30ca904"
      },
      "execution_count": null,
      "outputs": [
        {
          "name": "stdout",
          "output_type": "stream",
          "text": [
            "Enter city: karachi\n",
            "Enter city: lahore\n",
            "Enter city: ama\n",
            "Enter city: high\n",
            "Enter city: \n"
          ]
        },
        {
          "output_type": "execute_result",
          "data": {
            "text/plain": [
              "['karachi', 'lahore', 'ama', 'high']"
            ]
          },
          "metadata": {},
          "execution_count": 3
        }
      ]
    },
    {
      "cell_type": "code",
      "source": [
        "def cities2():\n",
        "  lst= []\n",
        "  while True:\n",
        "    city = input('Entercity: ')\n",
        "    if city == '':\n",
        "      break\n",
        "    lst.append(city)\n",
        "  return lst\n",
        "\n",
        "cities2()"
      ],
      "metadata": {
        "colab": {
          "base_uri": "https://localhost:8080/"
        },
        "id": "-dVD_PXZeqai",
        "outputId": "1a7ded7c-1f35-4ff6-d970-1e6c03e1b98c"
      },
      "execution_count": null,
      "outputs": [
        {
          "name": "stdout",
          "output_type": "stream",
          "text": [
            "Entercity: karachi\n",
            "Entercity: lahore\n",
            "Entercity: islamabad\n",
            "Entercity: \n"
          ]
        },
        {
          "output_type": "execute_result",
          "data": {
            "text/plain": [
              "['karachi', 'lahore', 'islamabad']"
            ]
          },
          "metadata": {},
          "execution_count": 6
        }
      ]
    },
    {
      "cell_type": "code",
      "source": [
        "a=90"
      ],
      "metadata": {
        "id": "6arKjwdcfd0w"
      },
      "execution_count": null,
      "outputs": []
    },
    {
      "cell_type": "code",
      "source": [
        "number = 5\n",
        "while number > 0:\n",
        "    number -= 1\n",
        "    print(number, end = ' ')"
      ],
      "metadata": {
        "colab": {
          "base_uri": "https://localhost:8080/"
        },
        "id": "_3DV89QUs8ZB",
        "outputId": "8730a1c4-d027-43f7-e1a5-e0f886cbc0fd"
      },
      "execution_count": null,
      "outputs": [
        {
          "output_type": "stream",
          "name": "stdout",
          "text": [
            "4 3 2 1 0 "
          ]
        }
      ]
    },
    {
      "cell_type": "code",
      "source": [
        "for l in '123456789':\n",
        "    if eval(l)%2 == 0:\n",
        "        continue\n",
        "    print(l, end = ' ')"
      ],
      "metadata": {
        "colab": {
          "base_uri": "https://localhost:8080/"
        },
        "id": "jtFTEKhvtbBs",
        "outputId": "5ceb75f0-455c-4306-e7b1-bf35e2cf065e"
      },
      "execution_count": null,
      "outputs": [
        {
          "output_type": "stream",
          "name": "stdout",
          "text": [
            "1 3 5 7 9 "
          ]
        }
      ]
    },
    {
      "cell_type": "code",
      "source": [
        "for l in '123456789':\n",
        "    if eval(l)%2 == 0:\n",
        "        pass\n",
        "    print(l, end = ' ')"
      ],
      "metadata": {
        "colab": {
          "base_uri": "https://localhost:8080/"
        },
        "id": "RfFcJLPMtnQk",
        "outputId": "9b6db4ca-0f03-497f-b7c4-0ff91bf052ee"
      },
      "execution_count": null,
      "outputs": [
        {
          "output_type": "stream",
          "name": "stdout",
          "text": [
            "1 2 3 4 5 6 7 8 9 "
          ]
        }
      ]
    },
    {
      "cell_type": "code",
      "source": [
        "numbers = [10, 20]\n",
        "items = [\"Chair\", \"Table\"]\n",
        "\n",
        "for x in numbers:\n",
        "  for y in items:\n",
        "    print(x, y, sep = '-', end = '  ')"
      ],
      "metadata": {
        "colab": {
          "base_uri": "https://localhost:8080/"
        },
        "id": "Fv26JOwdtvD0",
        "outputId": "ef0bde8d-b1d6-4e5e-df76-1b0eccdc8a66"
      },
      "execution_count": null,
      "outputs": [
        {
          "output_type": "stream",
          "name": "stdout",
          "text": [
            "10-Chair  10-Table  20-Chair  20-Table  "
          ]
        }
      ]
    },
    {
      "cell_type": "code",
      "source": [
        "for l in range(-11, -2, 1):\n",
        "     print(l, end = ' ')\n"
      ],
      "metadata": {
        "colab": {
          "base_uri": "https://localhost:8080/"
        },
        "id": "0J3pwvLRt4Lx",
        "outputId": "8902e101-d7e5-4081-80de-fbc1eefdd4d1"
      },
      "execution_count": null,
      "outputs": [
        {
          "output_type": "stream",
          "name": "stdout",
          "text": [
            "-11 -10 -9 -8 -7 -6 -5 -4 -3 "
          ]
        }
      ]
    },
    {
      "cell_type": "code",
      "source": [
        "a=1\n",
        "if a==1:\n",
        "  print(\"a\")\n",
        "\n",
        "elif a==2:\n",
        "  print(\"b\")"
      ],
      "metadata": {
        "colab": {
          "base_uri": "https://localhost:8080/"
        },
        "id": "1Dyi6VG6ufQo",
        "outputId": "bdf3accb-6310-4103-d017-7256e92b7cd4"
      },
      "execution_count": null,
      "outputs": [
        {
          "output_type": "stream",
          "name": "stdout",
          "text": [
            "a\n"
          ]
        }
      ]
    },
    {
      "cell_type": "code",
      "source": [
        "a = 2\n",
        "While (True or a < 2):\n",
        "print(a)\n",
        "    a += 2"
      ],
      "metadata": {
        "colab": {
          "base_uri": "https://localhost:8080/",
          "height": 130
        },
        "id": "EIB4KDgmu0m-",
        "outputId": "57c844ba-3334-4168-bae6-53ce2ebb3ff5"
      },
      "execution_count": null,
      "outputs": [
        {
          "output_type": "error",
          "ename": "SyntaxError",
          "evalue": "ignored",
          "traceback": [
            "\u001b[0;36m  File \u001b[0;32m\"<ipython-input-15-f03af1c76d97>\"\u001b[0;36m, line \u001b[0;32m2\u001b[0m\n\u001b[0;31m    While (True or a < 2):\u001b[0m\n\u001b[0m                          ^\u001b[0m\n\u001b[0;31mSyntaxError\u001b[0m\u001b[0;31m:\u001b[0m invalid syntax\n"
          ]
        }
      ]
    },
    {
      "cell_type": "markdown",
      "source": [
        "# **DICTIONARIES**"
      ],
      "metadata": {
        "id": "ffUoKPrKI7WL"
      }
    },
    {
      "cell_type": "code",
      "source": [
        "n=input(\"enter a sting\")\n",
        "z=input(\"enter a string\")\n",
        "def hexASCII():\n",
        "  for i in range(ord(n),ord(z)+1):\n",
        "    print(chr(i)+\":\"+hex(i))\n",
        "\n",
        "hexASCII()"
      ],
      "metadata": {
        "id": "sj3Y6N1GJL4Z",
        "colab": {
          "base_uri": "https://localhost:8080/",
          "height": 356
        },
        "outputId": "84d24981-c777-4993-908f-251bcc78abb7"
      },
      "execution_count": null,
      "outputs": [
        {
          "name": "stdout",
          "output_type": "stream",
          "text": [
            "enter a stinga\n",
            "enter a stringz\n"
          ]
        },
        {
          "output_type": "error",
          "ename": "TypeError",
          "evalue": "ignored",
          "traceback": [
            "\u001b[0;31m---------------------------------------------------------------------------\u001b[0m",
            "\u001b[0;31mTypeError\u001b[0m                                 Traceback (most recent call last)",
            "\u001b[0;32m<ipython-input-16-189126ff02de>\u001b[0m in \u001b[0;36m<module>\u001b[0;34m\u001b[0m\n\u001b[1;32m      5\u001b[0m     \u001b[0mprint\u001b[0m\u001b[0;34m(\u001b[0m\u001b[0mchr\u001b[0m\u001b[0;34m(\u001b[0m\u001b[0mi\u001b[0m\u001b[0;34m)\u001b[0m\u001b[0;34m+\u001b[0m\u001b[0;34m\":\"\u001b[0m\u001b[0;34m+\u001b[0m\u001b[0mhex\u001b[0m\u001b[0;34m(\u001b[0m\u001b[0mi\u001b[0m\u001b[0;34m)\u001b[0m\u001b[0;34m)\u001b[0m\u001b[0;34m\u001b[0m\u001b[0;34m\u001b[0m\u001b[0m\n\u001b[1;32m      6\u001b[0m \u001b[0;34m\u001b[0m\u001b[0m\n\u001b[0;32m----> 7\u001b[0;31m \u001b[0mhexASCII\u001b[0m\u001b[0;34m(\u001b[0m\u001b[0;34m)\u001b[0m\u001b[0;34m\u001b[0m\u001b[0;34m\u001b[0m\u001b[0m\n\u001b[0m",
            "\u001b[0;32m<ipython-input-16-189126ff02de>\u001b[0m in \u001b[0;36mhexASCII\u001b[0;34m()\u001b[0m\n\u001b[1;32m      3\u001b[0m \u001b[0;32mdef\u001b[0m \u001b[0mhexASCII\u001b[0m\u001b[0;34m(\u001b[0m\u001b[0;34m)\u001b[0m\u001b[0;34m:\u001b[0m\u001b[0;34m\u001b[0m\u001b[0;34m\u001b[0m\u001b[0m\n\u001b[1;32m      4\u001b[0m   \u001b[0;32mfor\u001b[0m \u001b[0mi\u001b[0m \u001b[0;32min\u001b[0m \u001b[0mrange\u001b[0m\u001b[0;34m(\u001b[0m\u001b[0mord\u001b[0m\u001b[0;34m(\u001b[0m\u001b[0mn\u001b[0m\u001b[0;34m)\u001b[0m\u001b[0;34m,\u001b[0m\u001b[0mord\u001b[0m\u001b[0;34m(\u001b[0m\u001b[0mz\u001b[0m\u001b[0;34m)\u001b[0m\u001b[0;34m+\u001b[0m\u001b[0;36m1\u001b[0m\u001b[0;34m)\u001b[0m\u001b[0;34m:\u001b[0m\u001b[0;34m\u001b[0m\u001b[0;34m\u001b[0m\u001b[0m\n\u001b[0;32m----> 5\u001b[0;31m     \u001b[0mprint\u001b[0m\u001b[0;34m(\u001b[0m\u001b[0mchr\u001b[0m\u001b[0;34m(\u001b[0m\u001b[0mi\u001b[0m\u001b[0;34m)\u001b[0m\u001b[0;34m+\u001b[0m\u001b[0;34m\":\"\u001b[0m\u001b[0;34m+\u001b[0m\u001b[0mhex\u001b[0m\u001b[0;34m(\u001b[0m\u001b[0mi\u001b[0m\u001b[0;34m)\u001b[0m\u001b[0;34m)\u001b[0m\u001b[0;34m\u001b[0m\u001b[0;34m\u001b[0m\u001b[0m\n\u001b[0m\u001b[1;32m      6\u001b[0m \u001b[0;34m\u001b[0m\u001b[0m\n\u001b[1;32m      7\u001b[0m \u001b[0mhexASCII\u001b[0m\u001b[0;34m(\u001b[0m\u001b[0;34m)\u001b[0m\u001b[0;34m\u001b[0m\u001b[0;34m\u001b[0m\u001b[0m\n",
            "\u001b[0;31mTypeError\u001b[0m: hex() takes 0 positional arguments but 1 was given"
          ]
        }
      ]
    },
    {
      "cell_type": "code",
      "source": [
        "def hexASCII():\n",
        "  for i in range(ord('a'), ord('z')+1):\n",
        "    print(f\"{chr(i)}: {hex(i)}\")\n",
        "  return i\n",
        "\n",
        "hexASCII()"
      ],
      "metadata": {
        "colab": {
          "base_uri": "https://localhost:8080/",
          "height": 321
        },
        "id": "z700ssGdKK-X",
        "outputId": "a99d0b4c-e180-42a3-fc8b-cb2f8f9b4659"
      },
      "execution_count": null,
      "outputs": [
        {
          "output_type": "error",
          "ename": "TypeError",
          "evalue": "ignored",
          "traceback": [
            "\u001b[0;31m---------------------------------------------------------------------------\u001b[0m",
            "\u001b[0;31mTypeError\u001b[0m                                 Traceback (most recent call last)",
            "\u001b[0;32m<ipython-input-13-4c3006b00995>\u001b[0m in \u001b[0;36m<module>\u001b[0;34m\u001b[0m\n\u001b[1;32m      4\u001b[0m   \u001b[0;32mreturn\u001b[0m \u001b[0mi\u001b[0m\u001b[0;34m\u001b[0m\u001b[0;34m\u001b[0m\u001b[0m\n\u001b[1;32m      5\u001b[0m \u001b[0;34m\u001b[0m\u001b[0m\n\u001b[0;32m----> 6\u001b[0;31m \u001b[0mhexASCII\u001b[0m\u001b[0;34m(\u001b[0m\u001b[0;34m)\u001b[0m\u001b[0;34m\u001b[0m\u001b[0;34m\u001b[0m\u001b[0m\n\u001b[0m",
            "\u001b[0;32m<ipython-input-13-4c3006b00995>\u001b[0m in \u001b[0;36mhexASCII\u001b[0;34m()\u001b[0m\n\u001b[1;32m      1\u001b[0m \u001b[0;32mdef\u001b[0m \u001b[0mhexASCII\u001b[0m\u001b[0;34m(\u001b[0m\u001b[0;34m)\u001b[0m\u001b[0;34m:\u001b[0m\u001b[0;34m\u001b[0m\u001b[0;34m\u001b[0m\u001b[0m\n\u001b[1;32m      2\u001b[0m   \u001b[0;32mfor\u001b[0m \u001b[0mi\u001b[0m \u001b[0;32min\u001b[0m \u001b[0mrange\u001b[0m\u001b[0;34m(\u001b[0m\u001b[0mord\u001b[0m\u001b[0;34m(\u001b[0m\u001b[0;34m'a'\u001b[0m\u001b[0;34m)\u001b[0m\u001b[0;34m,\u001b[0m \u001b[0mord\u001b[0m\u001b[0;34m(\u001b[0m\u001b[0;34m'z'\u001b[0m\u001b[0;34m)\u001b[0m\u001b[0;34m+\u001b[0m\u001b[0;36m1\u001b[0m\u001b[0;34m)\u001b[0m\u001b[0;34m:\u001b[0m\u001b[0;34m\u001b[0m\u001b[0;34m\u001b[0m\u001b[0m\n\u001b[0;32m----> 3\u001b[0;31m     \u001b[0mprint\u001b[0m\u001b[0;34m(\u001b[0m\u001b[0;34mf\"{chr(i)}: {hex(i)}\"\u001b[0m\u001b[0;34m)\u001b[0m\u001b[0;34m\u001b[0m\u001b[0;34m\u001b[0m\u001b[0m\n\u001b[0m\u001b[1;32m      4\u001b[0m   \u001b[0;32mreturn\u001b[0m \u001b[0mi\u001b[0m\u001b[0;34m\u001b[0m\u001b[0;34m\u001b[0m\u001b[0m\n\u001b[1;32m      5\u001b[0m \u001b[0;34m\u001b[0m\u001b[0m\n",
            "\u001b[0;31mTypeError\u001b[0m: hex() takes 0 positional arguments but 1 was given"
          ]
        }
      ]
    },
    {
      "cell_type": "code",
      "source": [
        "def reverse(phone_book):\n",
        "  reverse_phonebook={}\n",
        "  for name,num in phone_book.items():\n",
        "    reverse_phonebook[num]=name\n",
        "  return reverse_phonebook\n",
        "\n",
        "phone_book={\"sania\":1234,\"kabab\":4353}\n",
        "reverse(phone_book)\n"
      ],
      "metadata": {
        "colab": {
          "base_uri": "https://localhost:8080/"
        },
        "id": "4LJvr40aM0QG",
        "outputId": "f0be7cae-f845-4fe6-891b-65ed8f8155d5"
      },
      "execution_count": null,
      "outputs": [
        {
          "output_type": "execute_result",
          "data": {
            "text/plain": [
              "{1234: 'sania', 4353: 'kabab'}"
            ]
          },
          "metadata": {},
          "execution_count": 15
        }
      ]
    },
    {
      "cell_type": "markdown",
      "source": [
        "# **SETS**"
      ],
      "metadata": {
        "id": "KGt5XtLUcis3"
      }
    },
    {
      "cell_type": "code",
      "source": [
        "thisset = {\"apple\", \"banana\", \"cherry\"}\n",
        "print(thisset)\n"
      ],
      "metadata": {
        "colab": {
          "base_uri": "https://localhost:8080/"
        },
        "id": "gkhGTSFcTX59",
        "outputId": "ce22e322-af49-4336-d492-3b544487e854"
      },
      "execution_count": null,
      "outputs": [
        {
          "output_type": "stream",
          "name": "stdout",
          "text": [
            "{'cherry', 'banana', 'apple'}\n"
          ]
        }
      ]
    },
    {
      "cell_type": "markdown",
      "source": [
        "You cannot access items in a set by referring to an index or a key.\n",
        "\n",
        "But you can loop through the set items using a for loop, or ask if a specified value is present in a set, by using the in keyword"
      ],
      "metadata": {
        "id": "f6iHdSIHZ4kB"
      }
    },
    {
      "cell_type": "code",
      "source": [
        "thisset = {\"apple\", \"banana\", \"cherry\"}\n",
        "\n",
        "for x in thisset:\n",
        "  print(x)"
      ],
      "metadata": {
        "colab": {
          "base_uri": "https://localhost:8080/"
        },
        "id": "AhycJSchZH9Y",
        "outputId": "4a1a1d2c-a9cb-41eb-847e-9b2ab82fd76f"
      },
      "execution_count": null,
      "outputs": [
        {
          "output_type": "stream",
          "name": "stdout",
          "text": [
            "cherry\n",
            "banana\n",
            "apple\n"
          ]
        }
      ]
    },
    {
      "cell_type": "code",
      "source": [
        "thisset = {\"apple\", \"banana\", \"cherry\"}\n",
        "\n",
        "print(\"banana\" in thisset)"
      ],
      "metadata": {
        "colab": {
          "base_uri": "https://localhost:8080/"
        },
        "id": "w7hiRGh5aByp",
        "outputId": "926bef65-27c2-4492-e727-5fc043c57897"
      },
      "execution_count": null,
      "outputs": [
        {
          "output_type": "stream",
          "name": "stdout",
          "text": [
            "True\n"
          ]
        }
      ]
    },
    {
      "cell_type": "markdown",
      "source": [
        "Once a set is created, you cannot change its items, but you can add new items."
      ],
      "metadata": {
        "id": "YBZP-q6xa3_3"
      }
    },
    {
      "cell_type": "code",
      "source": [
        "#Add an item to a set, using the add() method:\n",
        "\n",
        "thisset = {\"apple\", \"banana\", \"cherry\"}\n",
        "\n",
        "thisset.add(\"orange\")\n",
        "\n",
        "print(thisset)"
      ],
      "metadata": {
        "colab": {
          "base_uri": "https://localhost:8080/"
        },
        "id": "u4RI0uE8aQ_F",
        "outputId": "6f368f60-04f7-4baf-ed55-d3ba7a9d93ee"
      },
      "execution_count": null,
      "outputs": [
        {
          "output_type": "stream",
          "name": "stdout",
          "text": [
            "{'orange', 'cherry', 'banana', 'apple'}\n"
          ]
        }
      ]
    },
    {
      "cell_type": "code",
      "source": [
        "#Add elements from tropical into thisset:\n",
        "\n",
        "thisset = {\"apple\", \"banana\", \"cherry\"}\n",
        "tropical = {\"pineapple\", \"mango\", \"papaya\"}\n",
        "\n",
        "thisset.update(tropical)\n",
        "\n",
        "print(thisset)"
      ],
      "metadata": {
        "colab": {
          "base_uri": "https://localhost:8080/"
        },
        "id": "TJQor3LfbDm7",
        "outputId": "e5e2e806-558c-4482-a2b1-22e98dc650b8"
      },
      "execution_count": null,
      "outputs": [
        {
          "output_type": "stream",
          "name": "stdout",
          "text": [
            "{'pineapple', 'papaya', 'cherry', 'banana', 'apple', 'mango'}\n"
          ]
        }
      ]
    },
    {
      "cell_type": "markdown",
      "source": [
        "The object in the update() method does not have to be a set, it can be any iterable object (tuples, lists, dictionaries etc.)"
      ],
      "metadata": {
        "id": "u3aflKYFcB1C"
      }
    },
    {
      "cell_type": "code",
      "source": [
        "thisset = {\"apple\", \"banana\", \"cherry\"}\n",
        "mylist = [\"kiwi\", \"orange\"]\n",
        "\n",
        "thisset.update(mylist)\n",
        "\n",
        "print(thisset)"
      ],
      "metadata": {
        "colab": {
          "base_uri": "https://localhost:8080/"
        },
        "id": "2Ql3nv94b0Ks",
        "outputId": "6a7bf965-2fb9-4bb5-b798-a7f723c5338e"
      },
      "execution_count": null,
      "outputs": [
        {
          "output_type": "stream",
          "name": "stdout",
          "text": [
            "{'banana', 'kiwi', 'orange', 'cherry', 'apple'}\n"
          ]
        }
      ]
    },
    {
      "cell_type": "code",
      "source": [
        "thisset = {\"apple\", \"banana\", \"cherry\"}\n",
        "\n",
        "thisset.remove(\"banana\")\n",
        "\n",
        "print(thisset)"
      ],
      "metadata": {
        "colab": {
          "base_uri": "https://localhost:8080/"
        },
        "id": "F2Y8bMLrdmuW",
        "outputId": "0defe5ea-9698-47b4-cb67-055532399fac"
      },
      "execution_count": null,
      "outputs": [
        {
          "output_type": "stream",
          "name": "stdout",
          "text": [
            "{'cherry', 'apple'}\n"
          ]
        }
      ]
    },
    {
      "cell_type": "markdown",
      "source": [
        "If the item to remove does not exist, remove() will raise an error."
      ],
      "metadata": {
        "id": "WF6q7R1CeERq"
      }
    },
    {
      "cell_type": "code",
      "source": [
        "thisset = {\"apple\", \"banana\", \"cherry\"}\n",
        "\n",
        "thisset.discard(\"banana\")\n",
        "\n",
        "print(thisset)\n"
      ],
      "metadata": {
        "colab": {
          "base_uri": "https://localhost:8080/"
        },
        "id": "WHTJ-ScAeCFm",
        "outputId": "b8b19d8b-15bd-4eef-f32e-9c1f44abf14c"
      },
      "execution_count": null,
      "outputs": [
        {
          "output_type": "stream",
          "name": "stdout",
          "text": [
            "{'cherry', 'apple'}\n"
          ]
        }
      ]
    },
    {
      "cell_type": "code",
      "source": [],
      "metadata": {
        "id": "8kC4db31eWb9"
      },
      "execution_count": null,
      "outputs": []
    },
    {
      "cell_type": "markdown",
      "source": [
        "If the item to remove does not exist, discard() will NOT raise an error.\n",
        "\n",
        "You can also use the pop() method to remove an item, but this method will remove a random item, so you cannot be sure what item that gets removed.\n",
        "\n",
        "The return value of the pop() method is the removed item"
      ],
      "metadata": {
        "id": "ipyu4889eLEE"
      }
    },
    {
      "cell_type": "code",
      "source": [
        "thisset = {\"apple\", \"banana\", \"cherry\"}\n",
        "\n",
        "x = thisset.pop()\n",
        "\n",
        "print(x)\n",
        "\n",
        "print(thisset)"
      ],
      "metadata": {
        "colab": {
          "base_uri": "https://localhost:8080/"
        },
        "id": "amz6rJJBeJm9",
        "outputId": "bb0b07d5-f898-4d1d-b319-13a5909bd3b3"
      },
      "execution_count": null,
      "outputs": [
        {
          "output_type": "stream",
          "name": "stdout",
          "text": [
            "cherry\n",
            "{'banana', 'apple'}\n"
          ]
        }
      ]
    },
    {
      "cell_type": "markdown",
      "source": [
        " Write Python Program to Create a List of Tuples with the First Element as\n",
        "the Number and Second Element as the Square of the Number"
      ],
      "metadata": {
        "id": "TKNZ06mbVayB"
      }
    },
    {
      "cell_type": "code",
      "source": [
        "lst=[]\n",
        "for i in range(2,10):\n",
        "  t=(i,i*i)\n",
        "  lst.append(t)\n",
        "print(lst)"
      ],
      "metadata": {
        "id": "uAE2b5ghebqI",
        "colab": {
          "base_uri": "https://localhost:8080/"
        },
        "outputId": "e2e33772-18d1-46c9-c6e4-2ac9445deae8"
      },
      "execution_count": null,
      "outputs": [
        {
          "output_type": "stream",
          "name": "stdout",
          "text": [
            "[(2, 4), (3, 9), (4, 16), (5, 25), (6, 36), (7, 49), (8, 64), (9, 81)]\n"
          ]
        }
      ]
    },
    {
      "cell_type": "markdown",
      "source": [
        "Write Python Program to Find all Numbers in a Range which are Perfect\n",
        "Squares and Sum of all Digits in the Number is Less than 10\n"
      ],
      "metadata": {
        "id": "vAQKM36rWDMt"
      }
    },
    {
      "cell_type": "code",
      "source": [
        "lower_limit = int(input(“Enter the lower range: “))\n",
        "upper_limit = int(input(“Enter the upper range: “))\n",
        "my_list = []\n",
        "my_list = [x for x in range(lower_limit,upper_limit+1) if (int(x**0.5))**2==x and\n",
        "sum(list(map(int,str(x))))<10]\n",
        "print(“The result is : “)\n",
        "print(my_list)"
      ],
      "metadata": {
        "id": "a7-dk71KVZCb"
      },
      "execution_count": null,
      "outputs": []
    },
    {
      "cell_type": "code",
      "source": [
        "from math import *"
      ],
      "metadata": {
        "id": "n5KhuR_RZX1M"
      },
      "execution_count": null,
      "outputs": []
    },
    {
      "cell_type": "code",
      "source": [
        "lst=[]\n",
        "for i in range(2,21):\n",
        "  if (i**0.5)**2==i:\n",
        "    lst.append(i)\n",
        "print(lst)\n",
        "\n"
      ],
      "metadata": {
        "colab": {
          "base_uri": "https://localhost:8080/"
        },
        "id": "sFBVkugEX_14",
        "outputId": "fc44e8f6-2433-4445-af5c-436624d88b6e"
      },
      "execution_count": null,
      "outputs": [
        {
          "output_type": "stream",
          "name": "stdout",
          "text": [
            "[4, 9, 11, 14, 16, 17]\n"
          ]
        }
      ]
    },
    {
      "cell_type": "code",
      "source": [
        "import math\n",
        "\n",
        "# Taking the input from user\n",
        "number = int(input(\"Enter the Number\"))\n",
        "\n",
        "root = math.sqrt(number)\n",
        "if int(root + 0.5) ** 2 == number:\n",
        "    print(number, \"is a perfect square\")\n",
        "else:\n",
        "    print(number, \"is not a perfect square\")"
      ],
      "metadata": {
        "colab": {
          "base_uri": "https://localhost:8080/"
        },
        "id": "vP4WGeHnYFdw",
        "outputId": "acc3ed07-0fef-4b27-b57a-2c9708449797"
      },
      "execution_count": null,
      "outputs": [
        {
          "output_type": "stream",
          "name": "stdout",
          "text": [
            "Enter the Number64\n",
            "64 is a perfect square\n"
          ]
        }
      ]
    },
    {
      "cell_type": "code",
      "source": [],
      "metadata": {
        "id": "KZq9nenraDOX"
      },
      "execution_count": null,
      "outputs": []
    }
  ]
}